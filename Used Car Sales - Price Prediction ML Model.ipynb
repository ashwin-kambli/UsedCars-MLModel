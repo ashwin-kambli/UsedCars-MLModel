{
 "cells": [
  {
   "cell_type": "markdown",
   "metadata": {},
   "source": [
    "# What drives the price of a car?\n",
    "\n",
    "![](images/kurt.jpeg)"
   ]
  },
  {
   "cell_type": "markdown",
   "metadata": {},
   "source": [
    "**OVERVIEW**\n",
    "\n",
    "In this application, you will explore a dataset from kaggle. The original dataset contained information on 3 million used cars. The provided dataset contains information on 426K cars to ensure speed of processing.  Your goal is to understand what factors make a car more or less expensive.  As a result of your analysis, you should provide clear recommendations to your client -- a used car dealership -- as to what consumers value in a used car."
   ]
  },
  {
   "cell_type": "markdown",
   "metadata": {},
   "source": [
    "### CRISP-DM Framework\n",
    "\n",
    "<center>\n",
    "    <img src = images/crisp.png width = 50%/>\n",
    "</center>\n",
    "\n",
    "\n",
    "To frame the task, throughout our practical applications we will refer back to a standard process in industry for data projects called CRISP-DM.  This process provides a framework for working through a data problem.  Your first step in this application will be to read through a brief overview of CRISP-DM [here](https://mo-pcco.s3.us-east-1.amazonaws.com/BH-PCMLAI/module_11/readings_starter.zip).  After reading the overview, answer the questions below."
   ]
  },
  {
   "cell_type": "code",
   "execution_count": 1,
   "metadata": {},
   "outputs": [],
   "source": [
    "import numpy as np\n",
    "from scipy.linalg import svd\n",
    "import matplotlib.pyplot as plt\n",
    "import seaborn as sns\n",
    "import pandas as pd\n",
    "from sklearn.datasets import fetch_openml"
   ]
  },
  {
   "cell_type": "code",
   "execution_count": 2,
   "metadata": {},
   "outputs": [],
   "source": [
    "from sklearn.preprocessing import PolynomialFeatures, OneHotEncoder, OrdinalEncoder, LabelEncoder, StandardScaler\n",
    "from sklearn.metrics import mean_squared_error"
   ]
  },
  {
   "cell_type": "code",
   "execution_count": 3,
   "metadata": {},
   "outputs": [],
   "source": [
    "from sklearn.model_selection import train_test_split"
   ]
  },
  {
   "cell_type": "code",
   "execution_count": 53,
   "metadata": {},
   "outputs": [],
   "source": [
    "import matplotlib.pyplot as plt\n",
    "import scipy as sp"
   ]
  },
  {
   "cell_type": "markdown",
   "metadata": {},
   "source": [
    "### Business Understanding\n",
    "\n",
    "From a business perspective, we are tasked with identifying key drivers for used car prices.  In the CRISP-DM overview, we are asked to convert this business framing to a data problem definition.  Using a few sentences, reframe the task as a data task with the appropriate technical vocabulary. "
   ]
  },
  {
   "cell_type": "markdown",
   "metadata": {},
   "source": []
  },
  {
   "cell_type": "markdown",
   "metadata": {},
   "source": [
    "## Business Understanding"
   ]
  },
  {
   "cell_type": "markdown",
   "metadata": {},
   "source": [
    "In this project, we will analyze the available car sales data and provide recommendations to the car salesmen, dealerships and other stakeholders on how to drive up sales and increase  profitability. We will be analzing the correlations between various features such as make and model of the car, odometer, condition, etc to identify the key drivers which will help boost sales. With this insight, the stakeholders should be able to take informed decisions about their inventory to drive profitability.  "
   ]
  },
  {
   "cell_type": "code",
   "execution_count": null,
   "metadata": {},
   "outputs": [],
   "source": []
  },
  {
   "cell_type": "code",
   "execution_count": null,
   "metadata": {},
   "outputs": [],
   "source": []
  },
  {
   "cell_type": "markdown",
   "metadata": {},
   "source": [
    "### Data Understanding\n",
    "\n",
    "After considering the business understanding, we want to get familiar with our data.  Write down some steps that you would take to get to know the dataset and identify any quality issues within.  Take time to get to know the dataset and explore what information it contains and how this could be used to inform your business understanding."
   ]
  },
  {
   "cell_type": "code",
   "execution_count": 5,
   "metadata": {},
   "outputs": [
    {
     "name": "stdout",
     "output_type": "stream",
     "text": [
      "<class 'pandas.core.frame.DataFrame'>\n",
      "RangeIndex: 426880 entries, 0 to 426879\n",
      "Data columns (total 18 columns):\n",
      " #   Column        Non-Null Count   Dtype  \n",
      "---  ------        --------------   -----  \n",
      " 0   id            426880 non-null  int64  \n",
      " 1   region        426880 non-null  object \n",
      " 2   price         426880 non-null  int64  \n",
      " 3   year          425675 non-null  float64\n",
      " 4   manufacturer  409234 non-null  object \n",
      " 5   model         421603 non-null  object \n",
      " 6   condition     252776 non-null  object \n",
      " 7   cylinders     249202 non-null  object \n",
      " 8   fuel          423867 non-null  object \n",
      " 9   odometer      422480 non-null  float64\n",
      " 10  title_status  418638 non-null  object \n",
      " 11  transmission  424324 non-null  object \n",
      " 12  VIN           265838 non-null  object \n",
      " 13  drive         296313 non-null  object \n",
      " 14  size          120519 non-null  object \n",
      " 15  type          334022 non-null  object \n",
      " 16  paint_color   296677 non-null  object \n",
      " 17  state         426880 non-null  object \n",
      "dtypes: float64(2), int64(2), object(14)\n",
      "memory usage: 58.6+ MB\n"
     ]
    }
   ],
   "source": [
    "#Let us first load the data\n",
    "data = pd.read_csv('data/vehicles.csv')\n",
    "data.info()"
   ]
  },
  {
   "cell_type": "code",
   "execution_count": null,
   "metadata": {},
   "outputs": [],
   "source": [
    "### We see that the data is made up of 18 features and over 426K observations. \n",
    "### We are interested in understanding the correlation between features and the price feature. "
   ]
  },
  {
   "cell_type": "code",
   "execution_count": null,
   "metadata": {},
   "outputs": [],
   "source": []
  },
  {
   "cell_type": "code",
   "execution_count": 6,
   "metadata": {
    "scrolled": true
   },
   "outputs": [
    {
     "data": {
      "text/plain": [
       "id                   0\n",
       "region               0\n",
       "price                0\n",
       "year              1205\n",
       "manufacturer     17646\n",
       "model             5277\n",
       "condition       174104\n",
       "cylinders       177678\n",
       "fuel              3013\n",
       "odometer          4400\n",
       "title_status      8242\n",
       "transmission      2556\n",
       "VIN             161042\n",
       "drive           130567\n",
       "size            306361\n",
       "type             92858\n",
       "paint_color     130203\n",
       "state                0\n",
       "dtype: int64"
      ]
     },
     "execution_count": 6,
     "metadata": {},
     "output_type": "execute_result"
    }
   ],
   "source": [
    "# Now, let us see what columns have the most nulls\n",
    "data.isna().sum()"
   ]
  },
  {
   "cell_type": "code",
   "execution_count": 7,
   "metadata": {},
   "outputs": [],
   "source": [
    "### We can see that \"size\" has the most number of null values. Almost 75% of rows have null values. \n",
    "### Similarly, features such as condition, cylinders, VIN, drive all have high nmber of nulls. "
   ]
  },
  {
   "cell_type": "code",
   "execution_count": 8,
   "metadata": {},
   "outputs": [
    {
     "data": {
      "text/plain": [
       "34868"
      ]
     },
     "execution_count": 8,
     "metadata": {},
     "output_type": "execute_result"
    }
   ],
   "source": [
    "### If we just drop all rows which have null values, then we end up with just ~ 35K rows. Which is less that 10% of the original\n",
    "### So, let us see how else we can clean up the null values\n",
    "data.dropna().shape[0]"
   ]
  },
  {
   "cell_type": "code",
   "execution_count": null,
   "metadata": {},
   "outputs": [],
   "source": []
  },
  {
   "cell_type": "code",
   "execution_count": 9,
   "metadata": {},
   "outputs": [],
   "source": [
    "### Let us now see which columns we can eliminate to keep our features within manageeable numbers \n",
    "### and also the number of null rows will not be too high"
   ]
  },
  {
   "cell_type": "code",
   "execution_count": 10,
   "metadata": {
    "scrolled": true
   },
   "outputs": [
    {
     "data": {
      "text/html": [
       "<div>\n",
       "<style scoped>\n",
       "    .dataframe tbody tr th:only-of-type {\n",
       "        vertical-align: middle;\n",
       "    }\n",
       "\n",
       "    .dataframe tbody tr th {\n",
       "        vertical-align: top;\n",
       "    }\n",
       "\n",
       "    .dataframe thead th {\n",
       "        text-align: right;\n",
       "    }\n",
       "</style>\n",
       "<table border=\"1\" class=\"dataframe\">\n",
       "  <thead>\n",
       "    <tr style=\"text-align: right;\">\n",
       "      <th></th>\n",
       "      <th>id</th>\n",
       "      <th>region</th>\n",
       "      <th>price</th>\n",
       "      <th>year</th>\n",
       "      <th>manufacturer</th>\n",
       "      <th>model</th>\n",
       "      <th>condition</th>\n",
       "      <th>cylinders</th>\n",
       "      <th>fuel</th>\n",
       "      <th>odometer</th>\n",
       "      <th>title_status</th>\n",
       "      <th>transmission</th>\n",
       "      <th>VIN</th>\n",
       "      <th>drive</th>\n",
       "      <th>size</th>\n",
       "      <th>type</th>\n",
       "      <th>paint_color</th>\n",
       "      <th>state</th>\n",
       "    </tr>\n",
       "  </thead>\n",
       "  <tbody>\n",
       "    <tr>\n",
       "      <th>357709</th>\n",
       "      <td>7310173047</td>\n",
       "      <td>memphis</td>\n",
       "      <td>40788</td>\n",
       "      <td>2014.0</td>\n",
       "      <td>ford</td>\n",
       "      <td>super duty f-250 pickup</td>\n",
       "      <td>NaN</td>\n",
       "      <td>8 cylinders</td>\n",
       "      <td>diesel</td>\n",
       "      <td>129491.0</td>\n",
       "      <td>clean</td>\n",
       "      <td>automatic</td>\n",
       "      <td>1FT7W2BT5EEA08539</td>\n",
       "      <td>4wd</td>\n",
       "      <td>NaN</td>\n",
       "      <td>NaN</td>\n",
       "      <td>white</td>\n",
       "      <td>tn</td>\n",
       "    </tr>\n",
       "    <tr>\n",
       "      <th>334333</th>\n",
       "      <td>7311165590</td>\n",
       "      <td>philadelphia</td>\n",
       "      <td>2950</td>\n",
       "      <td>2008.0</td>\n",
       "      <td>kia</td>\n",
       "      <td>spectra ex</td>\n",
       "      <td>good</td>\n",
       "      <td>NaN</td>\n",
       "      <td>gas</td>\n",
       "      <td>117863.0</td>\n",
       "      <td>clean</td>\n",
       "      <td>automatic</td>\n",
       "      <td>NaN</td>\n",
       "      <td>NaN</td>\n",
       "      <td>NaN</td>\n",
       "      <td>NaN</td>\n",
       "      <td>NaN</td>\n",
       "      <td>pa</td>\n",
       "    </tr>\n",
       "    <tr>\n",
       "      <th>266069</th>\n",
       "      <td>7310077330</td>\n",
       "      <td>binghamton</td>\n",
       "      <td>13500</td>\n",
       "      <td>2016.0</td>\n",
       "      <td>chevrolet</td>\n",
       "      <td>cruze</td>\n",
       "      <td>excellent</td>\n",
       "      <td>4 cylinders</td>\n",
       "      <td>gas</td>\n",
       "      <td>28000.0</td>\n",
       "      <td>clean</td>\n",
       "      <td>automatic</td>\n",
       "      <td>NaN</td>\n",
       "      <td>NaN</td>\n",
       "      <td>mid-size</td>\n",
       "      <td>sedan</td>\n",
       "      <td>NaN</td>\n",
       "      <td>ny</td>\n",
       "    </tr>\n",
       "    <tr>\n",
       "      <th>329089</th>\n",
       "      <td>7316339299</td>\n",
       "      <td>harrisburg</td>\n",
       "      <td>16900</td>\n",
       "      <td>2013.0</td>\n",
       "      <td>ford</td>\n",
       "      <td>edge sel awd</td>\n",
       "      <td>excellent</td>\n",
       "      <td>6 cylinders</td>\n",
       "      <td>gas</td>\n",
       "      <td>81999.0</td>\n",
       "      <td>clean</td>\n",
       "      <td>automatic</td>\n",
       "      <td>2FMDK4JCXDBB19623</td>\n",
       "      <td>4wd</td>\n",
       "      <td>NaN</td>\n",
       "      <td>SUV</td>\n",
       "      <td>red</td>\n",
       "      <td>pa</td>\n",
       "    </tr>\n",
       "    <tr>\n",
       "      <th>287426</th>\n",
       "      <td>7309533988</td>\n",
       "      <td>akron / canton</td>\n",
       "      <td>106999</td>\n",
       "      <td>2021.0</td>\n",
       "      <td>chevrolet</td>\n",
       "      <td>corvette</td>\n",
       "      <td>excellent</td>\n",
       "      <td>8 cylinders</td>\n",
       "      <td>gas</td>\n",
       "      <td>548.0</td>\n",
       "      <td>clean</td>\n",
       "      <td>automatic</td>\n",
       "      <td>1G1YB2D44M5103218</td>\n",
       "      <td>rwd</td>\n",
       "      <td>NaN</td>\n",
       "      <td>coupe</td>\n",
       "      <td>NaN</td>\n",
       "      <td>oh</td>\n",
       "    </tr>\n",
       "  </tbody>\n",
       "</table>\n",
       "</div>"
      ],
      "text/plain": [
       "                id          region   price    year manufacturer  \\\n",
       "357709  7310173047         memphis   40788  2014.0         ford   \n",
       "334333  7311165590    philadelphia    2950  2008.0          kia   \n",
       "266069  7310077330      binghamton   13500  2016.0    chevrolet   \n",
       "329089  7316339299      harrisburg   16900  2013.0         ford   \n",
       "287426  7309533988  akron / canton  106999  2021.0    chevrolet   \n",
       "\n",
       "                          model  condition    cylinders    fuel  odometer  \\\n",
       "357709  super duty f-250 pickup        NaN  8 cylinders  diesel  129491.0   \n",
       "334333               spectra ex       good          NaN     gas  117863.0   \n",
       "266069                    cruze  excellent  4 cylinders     gas   28000.0   \n",
       "329089             edge sel awd  excellent  6 cylinders     gas   81999.0   \n",
       "287426                 corvette  excellent  8 cylinders     gas     548.0   \n",
       "\n",
       "       title_status transmission                VIN drive      size   type  \\\n",
       "357709        clean    automatic  1FT7W2BT5EEA08539   4wd       NaN    NaN   \n",
       "334333        clean    automatic                NaN   NaN       NaN    NaN   \n",
       "266069        clean    automatic                NaN   NaN  mid-size  sedan   \n",
       "329089        clean    automatic  2FMDK4JCXDBB19623   4wd       NaN    SUV   \n",
       "287426        clean    automatic  1G1YB2D44M5103218   rwd       NaN  coupe   \n",
       "\n",
       "       paint_color state  \n",
       "357709       white    tn  \n",
       "334333         NaN    pa  \n",
       "266069         NaN    ny  \n",
       "329089         red    pa  \n",
       "287426         NaN    oh  "
      ]
     },
     "execution_count": 10,
     "metadata": {},
     "output_type": "execute_result"
    }
   ],
   "source": [
    "data.sample(5)"
   ]
  },
  {
   "cell_type": "code",
   "execution_count": 11,
   "metadata": {},
   "outputs": [
    {
     "data": {
      "text/plain": [
       "model\n",
       "\"t\"                                                                                      1\n",
       "#NAME?                                                                                   1\n",
       "$362.47, $1000 down, oac, 2.9%apr $362.47,luxury low miles $1000 down, only 40k miles    1\n",
       "%                                                                                        1\n",
       "& altima                                                                                 1\n",
       "                                                                                        ..\n",
       "♦ALL TADES WELCOME!♦                                                                     1\n",
       "♿                                                                                        1\n",
       "♿ vmi                                                                                    1\n",
       "𝓜𝓮𝓻𝓬𝓮𝓭𝓮𝓼 𝓫𝓮𝓷𝔃 𝓶𝓵 350                                                                     1\n",
       "🔥GMC Sierra 1500 SLE🔥 4X4 🔥                                                              1\n",
       "Name: model, Length: 29649, dtype: int64"
      ]
     },
     "execution_count": 11,
     "metadata": {},
     "output_type": "execute_result"
    }
   ],
   "source": [
    "### Model feature has ~ 30K unique values. We coul probably ignore this feature for our model\n",
    "data.groupby(['model'])['model'].nunique()"
   ]
  },
  {
   "cell_type": "code",
   "execution_count": 12,
   "metadata": {
    "scrolled": true
   },
   "outputs": [
    {
     "data": {
      "text/html": [
       "<div>\n",
       "<style scoped>\n",
       "    .dataframe tbody tr th:only-of-type {\n",
       "        vertical-align: middle;\n",
       "    }\n",
       "\n",
       "    .dataframe tbody tr th {\n",
       "        vertical-align: top;\n",
       "    }\n",
       "\n",
       "    .dataframe thead th {\n",
       "        text-align: right;\n",
       "    }\n",
       "</style>\n",
       "<table border=\"1\" class=\"dataframe\">\n",
       "  <thead>\n",
       "    <tr style=\"text-align: right;\">\n",
       "      <th></th>\n",
       "      <th>model</th>\n",
       "      <th>count</th>\n",
       "    </tr>\n",
       "  </thead>\n",
       "  <tbody>\n",
       "    <tr>\n",
       "      <th>14220</th>\n",
       "      <td>f-150</td>\n",
       "      <td>8009</td>\n",
       "    </tr>\n",
       "    <tr>\n",
       "      <th>24742</th>\n",
       "      <td>silverado 1500</td>\n",
       "      <td>5140</td>\n",
       "    </tr>\n",
       "    <tr>\n",
       "      <th>162</th>\n",
       "      <td>1500</td>\n",
       "      <td>4211</td>\n",
       "    </tr>\n",
       "    <tr>\n",
       "      <th>9795</th>\n",
       "      <td>camry</td>\n",
       "      <td>3135</td>\n",
       "    </tr>\n",
       "    <tr>\n",
       "      <th>24736</th>\n",
       "      <td>silverado</td>\n",
       "      <td>3023</td>\n",
       "    </tr>\n",
       "    <tr>\n",
       "      <th>...</th>\n",
       "      <td>...</td>\n",
       "      <td>...</td>\n",
       "    </tr>\n",
       "    <tr>\n",
       "      <th>11675</th>\n",
       "      <td>crosstrek 2.0i premium aw</td>\n",
       "      <td>1</td>\n",
       "    </tr>\n",
       "    <tr>\n",
       "      <th>11673</th>\n",
       "      <td>crosstrek 2.0i prem</td>\n",
       "      <td>1</td>\n",
       "    </tr>\n",
       "    <tr>\n",
       "      <th>11672</th>\n",
       "      <td>crosstrek 2.0i limited cvt</td>\n",
       "      <td>1</td>\n",
       "    </tr>\n",
       "    <tr>\n",
       "      <th>11671</th>\n",
       "      <td>crosstrek 2.0i limited aw</td>\n",
       "      <td>1</td>\n",
       "    </tr>\n",
       "    <tr>\n",
       "      <th>29648</th>\n",
       "      <td>🔥GMC Sierra 1500 SLE🔥 4X4 🔥</td>\n",
       "      <td>1</td>\n",
       "    </tr>\n",
       "  </tbody>\n",
       "</table>\n",
       "<p>29649 rows × 2 columns</p>\n",
       "</div>"
      ],
      "text/plain": [
       "                             model  count\n",
       "14220                        f-150   8009\n",
       "24742               silverado 1500   5140\n",
       "162                           1500   4211\n",
       "9795                         camry   3135\n",
       "24736                    silverado   3023\n",
       "...                            ...    ...\n",
       "11675    crosstrek 2.0i premium aw      1\n",
       "11673          crosstrek 2.0i prem      1\n",
       "11672   crosstrek 2.0i limited cvt      1\n",
       "11671    crosstrek 2.0i limited aw      1\n",
       "29648  🔥GMC Sierra 1500 SLE🔥 4X4 🔥      1\n",
       "\n",
       "[29649 rows x 2 columns]"
      ]
     },
     "execution_count": 12,
     "metadata": {},
     "output_type": "execute_result"
    }
   ],
   "source": [
    "data.groupby(['model'])['model'] \\\n",
    "    .count() \\\n",
    "    .reset_index(name='count') \\\n",
    "    .sort_values(['count'], ascending=False)"
   ]
  },
  {
   "cell_type": "code",
   "execution_count": 13,
   "metadata": {
    "scrolled": true
   },
   "outputs": [
    {
     "data": {
      "text/plain": [
       "region\n",
       "SF bay area               2936\n",
       "abilene                    235\n",
       "akron / canton            2211\n",
       "albany                    2537\n",
       "albuquerque               2952\n",
       "                          ... \n",
       "york                       777\n",
       "youngstown                 664\n",
       "yuba-sutter               1747\n",
       "yuma                       335\n",
       "zanesville / cambridge     313\n",
       "Name: region, Length: 404, dtype: int64"
      ]
     },
     "execution_count": 13,
     "metadata": {},
     "output_type": "execute_result"
    }
   ],
   "source": [
    "# region feature has 404 unique non-numeric values. We could probably ignore this feature as well\n",
    "data.groupby(['region'])['region'].count()"
   ]
  },
  {
   "cell_type": "code",
   "execution_count": 14,
   "metadata": {},
   "outputs": [
    {
     "data": {
      "text/plain": [
       "type\n",
       "SUV            77284\n",
       "bus              517\n",
       "convertible     7731\n",
       "coupe          19204\n",
       "hatchback      16598\n",
       "mini-van        4825\n",
       "offroad          609\n",
       "other          22110\n",
       "pickup         43510\n",
       "sedan          87056\n",
       "truck          35279\n",
       "van             8548\n",
       "wagon          10751\n",
       "Name: type, dtype: int64"
      ]
     },
     "execution_count": 14,
     "metadata": {},
     "output_type": "execute_result"
    }
   ],
   "source": [
    "data.groupby(['type'])['type'].count()"
   ]
  },
  {
   "cell_type": "code",
   "execution_count": 15,
   "metadata": {
    "scrolled": false
   },
   "outputs": [
    {
     "data": {
      "text/plain": [
       "title_status\n",
       "clean         405117\n",
       "lien            1422\n",
       "missing          814\n",
       "parts only       198\n",
       "rebuilt         7219\n",
       "salvage         3868\n",
       "Name: title_status, dtype: int64"
      ]
     },
     "execution_count": 15,
     "metadata": {},
     "output_type": "execute_result"
    }
   ],
   "source": [
    "data.groupby(['title_status'])['title_status'].count()"
   ]
  },
  {
   "cell_type": "code",
   "execution_count": 16,
   "metadata": {},
   "outputs": [],
   "source": [
    "### We could use an ordinal encoder to convert this feature into numeric values "
   ]
  },
  {
   "cell_type": "code",
   "execution_count": 17,
   "metadata": {},
   "outputs": [
    {
     "data": {
      "text/plain": [
       "array([[0.],\n",
       "       [0.],\n",
       "       [0.],\n",
       "       ...,\n",
       "       [0.],\n",
       "       [0.],\n",
       "       [0.]])"
      ]
     },
     "execution_count": 17,
     "metadata": {},
     "output_type": "execute_result"
    }
   ],
   "source": [
    "oe_title = OrdinalEncoder(categories = [['clean', 'rebuilt', 'lien', 'parts only', 'missing', 'salvage']])\n",
    "oe_title.fit_transform(data[['title_status']].dropna())"
   ]
  },
  {
   "cell_type": "code",
   "execution_count": 18,
   "metadata": {
    "scrolled": true
   },
   "outputs": [
    {
     "data": {
      "text/plain": [
       "condition\n",
       "excellent    101467\n",
       "fair           6769\n",
       "good         121456\n",
       "like new      21178\n",
       "new            1305\n",
       "salvage         601\n",
       "Name: condition, dtype: int64"
      ]
     },
     "execution_count": 18,
     "metadata": {},
     "output_type": "execute_result"
    }
   ],
   "source": [
    "data.groupby(['condition'])['condition'].count()"
   ]
  },
  {
   "cell_type": "code",
   "execution_count": 19,
   "metadata": {},
   "outputs": [
    {
     "data": {
      "text/plain": [
       "array([[3.],\n",
       "       [3.],\n",
       "       [3.],\n",
       "       ...,\n",
       "       [3.],\n",
       "       [3.],\n",
       "       [3.]])"
      ]
     },
     "execution_count": 19,
     "metadata": {},
     "output_type": "execute_result"
    }
   ],
   "source": [
    "oe_condition = OrdinalEncoder(categories = [['new', 'like new', 'excellent', 'good', 'fair', 'salvage']])\n",
    "oe_condition.fit_transform(data[['condition']].dropna())"
   ]
  },
  {
   "cell_type": "code",
   "execution_count": 20,
   "metadata": {
    "scrolled": true
   },
   "outputs": [
    {
     "data": {
      "text/plain": [
       "size\n",
       "compact        19384\n",
       "full-size      63465\n",
       "mid-size       34476\n",
       "sub-compact     3194\n",
       "Name: size, dtype: int64"
      ]
     },
     "execution_count": 20,
     "metadata": {},
     "output_type": "execute_result"
    }
   ],
   "source": [
    "data.groupby(['size'])['size'].count()"
   ]
  },
  {
   "cell_type": "code",
   "execution_count": 21,
   "metadata": {},
   "outputs": [
    {
     "data": {
      "text/plain": [
       "drive\n",
       "4wd    131904\n",
       "fwd    105517\n",
       "rwd     58892\n",
       "Name: drive, dtype: int64"
      ]
     },
     "execution_count": 21,
     "metadata": {},
     "output_type": "execute_result"
    }
   ],
   "source": [
    "data.groupby(['drive'])['drive'].count()"
   ]
  },
  {
   "cell_type": "code",
   "execution_count": 22,
   "metadata": {},
   "outputs": [
    {
     "data": {
      "text/plain": [
       "<AxesSubplot:ylabel='transmission'>"
      ]
     },
     "execution_count": 22,
     "metadata": {},
     "output_type": "execute_result"
    },
    {
     "data": {
      "image/png": "[encoded data removed]",
      "text/plain": [
       "<Figure size 640x480 with 1 Axes>"
      ]
     },
     "metadata": {},
     "output_type": "display_data"
    }
   ],
   "source": [
    "data.groupby(['transmission'])['transmission'].count().plot.pie()"
   ]
  },
  {
   "cell_type": "code",
   "execution_count": 23,
   "metadata": {},
   "outputs": [
    {
     "data": {
      "text/plain": [
       "<AxesSubplot:ylabel='fuel'>"
      ]
     },
     "execution_count": 23,
     "metadata": {},
     "output_type": "execute_result"
    },
    {
     "data": {
      "image/png": "[encoded data removed]",
      "text/plain": [
       "<Figure size 640x480 with 1 Axes>"
      ]
     },
     "metadata": {},
     "output_type": "display_data"
    }
   ],
   "source": [
    "data.groupby(['fuel'])['fuel'].count().plot.pie()"
   ]
  },
  {
   "cell_type": "markdown",
   "metadata": {},
   "source": [
    "### Data Preparation\n",
    "\n",
    "After our initial exploration and fine tuning of the business understanding, it is time to construct our final dataset prior to modeling.  Here, we want to make sure to handle any integrity issues and cleaning, the engineering of new features, any transformations that we believe should happen (scaling, logarithms, normalization, etc.), and general preparation for modeling with `sklearn`. "
   ]
  },
  {
   "cell_type": "code",
   "execution_count": 24,
   "metadata": {},
   "outputs": [
    {
     "name": "stdout",
     "output_type": "stream",
     "text": [
      "<class 'pandas.core.frame.DataFrame'>\n",
      "RangeIndex: 426880 entries, 0 to 426879\n",
      "Data columns (total 7 columns):\n",
      " #   Column        Non-Null Count   Dtype  \n",
      "---  ------        --------------   -----  \n",
      " 0   price         426880 non-null  int64  \n",
      " 1   year          425675 non-null  float64\n",
      " 2   condition     252776 non-null  object \n",
      " 3   odometer      422480 non-null  float64\n",
      " 4   title_status  418638 non-null  object \n",
      " 5   drive         296313 non-null  object \n",
      " 6   type          334022 non-null  object \n",
      "dtypes: float64(2), int64(1), object(4)\n",
      "memory usage: 22.8+ MB\n"
     ]
    }
   ],
   "source": [
    "data_reduced_features = data[['price', 'year', 'condition', 'odometer', 'title_status', 'drive', 'type']]\n",
    "data_reduced_features.info()"
   ]
  },
  {
   "cell_type": "code",
   "execution_count": 25,
   "metadata": {},
   "outputs": [
    {
     "data": {
      "text/plain": [
       "Index(['id', 'region', 'price', 'year', 'manufacturer', 'model', 'condition',\n",
       "       'cylinders', 'fuel', 'odometer', 'title_status', 'transmission', 'VIN',\n",
       "       'drive', 'size', 'type', 'paint_color', 'state'],\n",
       "      dtype='object')"
      ]
     },
     "execution_count": 25,
     "metadata": {},
     "output_type": "execute_result"
    }
   ],
   "source": [
    "data.columns"
   ]
  },
  {
   "cell_type": "code",
   "execution_count": 26,
   "metadata": {},
   "outputs": [],
   "source": [
    "### Let us drop null values:  \n",
    "data_no_nulls = data_reduced_features.dropna()"
   ]
  },
  {
   "cell_type": "code",
   "execution_count": 27,
   "metadata": {
    "scrolled": true
   },
   "outputs": [
    {
     "data": {
      "text/plain": [
       "price           0\n",
       "year            0\n",
       "condition       0\n",
       "odometer        0\n",
       "title_status    0\n",
       "drive           0\n",
       "type            0\n",
       "dtype: int64"
      ]
     },
     "execution_count": 27,
     "metadata": {},
     "output_type": "execute_result"
    }
   ],
   "source": [
    "data_no_nulls.isna().sum()"
   ]
  },
  {
   "cell_type": "code",
   "execution_count": 28,
   "metadata": {},
   "outputs": [
    {
     "data": {
      "text/html": [
       "<div>\n",
       "<style scoped>\n",
       "    .dataframe tbody tr th:only-of-type {\n",
       "        vertical-align: middle;\n",
       "    }\n",
       "\n",
       "    .dataframe tbody tr th {\n",
       "        vertical-align: top;\n",
       "    }\n",
       "\n",
       "    .dataframe thead th {\n",
       "        text-align: right;\n",
       "    }\n",
       "</style>\n",
       "<table border=\"1\" class=\"dataframe\">\n",
       "  <thead>\n",
       "    <tr style=\"text-align: right;\">\n",
       "      <th></th>\n",
       "      <th>price</th>\n",
       "      <th>year</th>\n",
       "      <th>odometer</th>\n",
       "    </tr>\n",
       "  </thead>\n",
       "  <tbody>\n",
       "    <tr>\n",
       "      <th>price</th>\n",
       "      <td>1.000000</td>\n",
       "      <td>-0.001343</td>\n",
       "      <td>0.001083</td>\n",
       "    </tr>\n",
       "    <tr>\n",
       "      <th>year</th>\n",
       "      <td>-0.001343</td>\n",
       "      <td>1.000000</td>\n",
       "      <td>-0.151194</td>\n",
       "    </tr>\n",
       "    <tr>\n",
       "      <th>odometer</th>\n",
       "      <td>0.001083</td>\n",
       "      <td>-0.151194</td>\n",
       "      <td>1.000000</td>\n",
       "    </tr>\n",
       "  </tbody>\n",
       "</table>\n",
       "</div>"
      ],
      "text/plain": [
       "             price      year  odometer\n",
       "price     1.000000 -0.001343  0.001083\n",
       "year     -0.001343  1.000000 -0.151194\n",
       "odometer  0.001083 -0.151194  1.000000"
      ]
     },
     "execution_count": 28,
     "metadata": {},
     "output_type": "execute_result"
    }
   ],
   "source": [
    "data_no_nulls[['price','year','odometer']].corr()"
   ]
  },
  {
   "cell_type": "code",
   "execution_count": 29,
   "metadata": {},
   "outputs": [
    {
     "ename": "KeyboardInterrupt",
     "evalue": "",
     "output_type": "error",
     "traceback": [
      "\u001b[1;31m---------------------------------------------------------------------------\u001b[0m",
      "\u001b[1;31mKeyboardInterrupt\u001b[0m                         Traceback (most recent call last)",
      "Cell \u001b[1;32mIn[29], line 1\u001b[0m\n\u001b[1;32m----> 1\u001b[0m \u001b[43msns\u001b[49m\u001b[38;5;241;43m.\u001b[39;49m\u001b[43mpairplot\u001b[49m\u001b[43m(\u001b[49m\u001b[43mdata_no_nulls\u001b[49m\u001b[43m[\u001b[49m\u001b[43m[\u001b[49m\u001b[38;5;124;43m'\u001b[39;49m\u001b[38;5;124;43mprice\u001b[39;49m\u001b[38;5;124;43m'\u001b[39;49m\u001b[43m,\u001b[49m\u001b[38;5;124;43m'\u001b[39;49m\u001b[38;5;124;43myear\u001b[39;49m\u001b[38;5;124;43m'\u001b[39;49m\u001b[43m,\u001b[49m\u001b[38;5;124;43m'\u001b[39;49m\u001b[38;5;124;43modometer\u001b[39;49m\u001b[38;5;124;43m'\u001b[39;49m\u001b[43m]\u001b[49m\u001b[43m]\u001b[49m\u001b[43m)\u001b[49m\n",
      "File \u001b[1;32mC:\\ProgramData\\Anaconda3\\lib\\site-packages\\seaborn\\_decorators.py:46\u001b[0m, in \u001b[0;36m_deprecate_positional_args.<locals>.inner_f\u001b[1;34m(*args, **kwargs)\u001b[0m\n\u001b[0;32m     36\u001b[0m     warnings\u001b[38;5;241m.\u001b[39mwarn(\n\u001b[0;32m     37\u001b[0m         \u001b[38;5;124m\"\u001b[39m\u001b[38;5;124mPass the following variable\u001b[39m\u001b[38;5;132;01m{}\u001b[39;00m\u001b[38;5;124m as \u001b[39m\u001b[38;5;132;01m{}\u001b[39;00m\u001b[38;5;124mkeyword arg\u001b[39m\u001b[38;5;132;01m{}\u001b[39;00m\u001b[38;5;124m: \u001b[39m\u001b[38;5;132;01m{}\u001b[39;00m\u001b[38;5;124m. \u001b[39m\u001b[38;5;124m\"\u001b[39m\n\u001b[0;32m     38\u001b[0m         \u001b[38;5;124m\"\u001b[39m\u001b[38;5;124mFrom version 0.12, the only valid positional argument \u001b[39m\u001b[38;5;124m\"\u001b[39m\n\u001b[1;32m   (...)\u001b[0m\n\u001b[0;32m     43\u001b[0m         \u001b[38;5;167;01mFutureWarning\u001b[39;00m\n\u001b[0;32m     44\u001b[0m     )\n\u001b[0;32m     45\u001b[0m kwargs\u001b[38;5;241m.\u001b[39mupdate({k: arg \u001b[38;5;28;01mfor\u001b[39;00m k, arg \u001b[38;5;129;01min\u001b[39;00m \u001b[38;5;28mzip\u001b[39m(sig\u001b[38;5;241m.\u001b[39mparameters, args)})\n\u001b[1;32m---> 46\u001b[0m \u001b[38;5;28;01mreturn\u001b[39;00m f(\u001b[38;5;241m*\u001b[39m\u001b[38;5;241m*\u001b[39mkwargs)\n",
      "File \u001b[1;32mC:\\ProgramData\\Anaconda3\\lib\\site-packages\\seaborn\\axisgrid.py:2126\u001b[0m, in \u001b[0;36mpairplot\u001b[1;34m(data, hue, hue_order, palette, vars, x_vars, y_vars, kind, diag_kind, markers, height, aspect, corner, dropna, plot_kws, diag_kws, grid_kws, size)\u001b[0m\n\u001b[0;32m   2124\u001b[0m diag_kws\u001b[38;5;241m.\u001b[39msetdefault(\u001b[38;5;124m\"\u001b[39m\u001b[38;5;124mlegend\u001b[39m\u001b[38;5;124m\"\u001b[39m, \u001b[38;5;28;01mFalse\u001b[39;00m)\n\u001b[0;32m   2125\u001b[0m \u001b[38;5;28;01mif\u001b[39;00m diag_kind \u001b[38;5;241m==\u001b[39m \u001b[38;5;124m\"\u001b[39m\u001b[38;5;124mhist\u001b[39m\u001b[38;5;124m\"\u001b[39m:\n\u001b[1;32m-> 2126\u001b[0m     grid\u001b[38;5;241m.\u001b[39mmap_diag(histplot, \u001b[38;5;241m*\u001b[39m\u001b[38;5;241m*\u001b[39mdiag_kws)\n\u001b[0;32m   2127\u001b[0m \u001b[38;5;28;01melif\u001b[39;00m diag_kind \u001b[38;5;241m==\u001b[39m \u001b[38;5;124m\"\u001b[39m\u001b[38;5;124mkde\u001b[39m\u001b[38;5;124m\"\u001b[39m:\n\u001b[0;32m   2128\u001b[0m     diag_kws\u001b[38;5;241m.\u001b[39msetdefault(\u001b[38;5;124m\"\u001b[39m\u001b[38;5;124mfill\u001b[39m\u001b[38;5;124m\"\u001b[39m, \u001b[38;5;28;01mTrue\u001b[39;00m)\n",
      "File \u001b[1;32mC:\\ProgramData\\Anaconda3\\lib\\site-packages\\seaborn\\axisgrid.py:1478\u001b[0m, in \u001b[0;36mPairGrid.map_diag\u001b[1;34m(self, func, **kwargs)\u001b[0m\n\u001b[0;32m   1476\u001b[0m     plot_kwargs\u001b[38;5;241m.\u001b[39msetdefault(\u001b[38;5;124m\"\u001b[39m\u001b[38;5;124mhue_order\u001b[39m\u001b[38;5;124m\"\u001b[39m, \u001b[38;5;28mself\u001b[39m\u001b[38;5;241m.\u001b[39m_hue_order)\n\u001b[0;32m   1477\u001b[0m     plot_kwargs\u001b[38;5;241m.\u001b[39msetdefault(\u001b[38;5;124m\"\u001b[39m\u001b[38;5;124mpalette\u001b[39m\u001b[38;5;124m\"\u001b[39m, \u001b[38;5;28mself\u001b[39m\u001b[38;5;241m.\u001b[39m_orig_palette)\n\u001b[1;32m-> 1478\u001b[0m     func(x\u001b[38;5;241m=\u001b[39mvector, \u001b[38;5;241m*\u001b[39m\u001b[38;5;241m*\u001b[39mplot_kwargs)\n\u001b[0;32m   1479\u001b[0m     ax\u001b[38;5;241m.\u001b[39mlegend_ \u001b[38;5;241m=\u001b[39m \u001b[38;5;28;01mNone\u001b[39;00m\n\u001b[0;32m   1481\u001b[0m \u001b[38;5;28mself\u001b[39m\u001b[38;5;241m.\u001b[39m_add_axis_labels()\n",
      "File \u001b[1;32mC:\\ProgramData\\Anaconda3\\lib\\site-packages\\seaborn\\distributions.py:1462\u001b[0m, in \u001b[0;36mhistplot\u001b[1;34m(data, x, y, hue, weights, stat, bins, binwidth, binrange, discrete, cumulative, common_bins, common_norm, multiple, element, fill, shrink, kde, kde_kws, line_kws, thresh, pthresh, pmax, cbar, cbar_ax, cbar_kws, palette, hue_order, hue_norm, color, log_scale, legend, ax, **kwargs)\u001b[0m\n\u001b[0;32m   1451\u001b[0m estimate_kws \u001b[38;5;241m=\u001b[39m \u001b[38;5;28mdict\u001b[39m(\n\u001b[0;32m   1452\u001b[0m     stat\u001b[38;5;241m=\u001b[39mstat,\n\u001b[0;32m   1453\u001b[0m     bins\u001b[38;5;241m=\u001b[39mbins,\n\u001b[1;32m   (...)\u001b[0m\n\u001b[0;32m   1457\u001b[0m     cumulative\u001b[38;5;241m=\u001b[39mcumulative,\n\u001b[0;32m   1458\u001b[0m )\n\u001b[0;32m   1460\u001b[0m \u001b[38;5;28;01mif\u001b[39;00m p\u001b[38;5;241m.\u001b[39munivariate:\n\u001b[1;32m-> 1462\u001b[0m     p\u001b[38;5;241m.\u001b[39mplot_univariate_histogram(\n\u001b[0;32m   1463\u001b[0m         multiple\u001b[38;5;241m=\u001b[39mmultiple,\n\u001b[0;32m   1464\u001b[0m         element\u001b[38;5;241m=\u001b[39melement,\n\u001b[0;32m   1465\u001b[0m         fill\u001b[38;5;241m=\u001b[39mfill,\n\u001b[0;32m   1466\u001b[0m         shrink\u001b[38;5;241m=\u001b[39mshrink,\n\u001b[0;32m   1467\u001b[0m         common_norm\u001b[38;5;241m=\u001b[39mcommon_norm,\n\u001b[0;32m   1468\u001b[0m         common_bins\u001b[38;5;241m=\u001b[39mcommon_bins,\n\u001b[0;32m   1469\u001b[0m         kde\u001b[38;5;241m=\u001b[39mkde,\n\u001b[0;32m   1470\u001b[0m         kde_kws\u001b[38;5;241m=\u001b[39mkde_kws,\n\u001b[0;32m   1471\u001b[0m         color\u001b[38;5;241m=\u001b[39mcolor,\n\u001b[0;32m   1472\u001b[0m         legend\u001b[38;5;241m=\u001b[39mlegend,\n\u001b[0;32m   1473\u001b[0m         estimate_kws\u001b[38;5;241m=\u001b[39mestimate_kws,\n\u001b[0;32m   1474\u001b[0m         line_kws\u001b[38;5;241m=\u001b[39mline_kws,\n\u001b[0;32m   1475\u001b[0m         \u001b[38;5;241m*\u001b[39m\u001b[38;5;241m*\u001b[39mkwargs,\n\u001b[0;32m   1476\u001b[0m     )\n\u001b[0;32m   1478\u001b[0m \u001b[38;5;28;01melse\u001b[39;00m:\n\u001b[0;32m   1480\u001b[0m     p\u001b[38;5;241m.\u001b[39mplot_bivariate_histogram(\n\u001b[0;32m   1481\u001b[0m         common_bins\u001b[38;5;241m=\u001b[39mcommon_bins,\n\u001b[0;32m   1482\u001b[0m         common_norm\u001b[38;5;241m=\u001b[39mcommon_norm,\n\u001b[1;32m   (...)\u001b[0m\n\u001b[0;32m   1492\u001b[0m         \u001b[38;5;241m*\u001b[39m\u001b[38;5;241m*\u001b[39mkwargs,\n\u001b[0;32m   1493\u001b[0m     )\n",
      "File \u001b[1;32mC:\\ProgramData\\Anaconda3\\lib\\site-packages\\seaborn\\distributions.py:565\u001b[0m, in \u001b[0;36m_DistributionPlotter.plot_univariate_histogram\u001b[1;34m(self, multiple, element, fill, common_norm, common_bins, shrink, kde, kde_kws, color, legend, line_kws, estimate_kws, **plot_kws)\u001b[0m\n\u001b[0;32m    560\u001b[0m \u001b[38;5;28;01mif\u001b[39;00m element \u001b[38;5;241m==\u001b[39m \u001b[38;5;124m\"\u001b[39m\u001b[38;5;124mbars\u001b[39m\u001b[38;5;124m\"\u001b[39m:\n\u001b[0;32m    561\u001b[0m \n\u001b[0;32m    562\u001b[0m     \u001b[38;5;66;03m# Use matplotlib bar plotting\u001b[39;00m\n\u001b[0;32m    564\u001b[0m     plot_func \u001b[38;5;241m=\u001b[39m ax\u001b[38;5;241m.\u001b[39mbar \u001b[38;5;28;01mif\u001b[39;00m \u001b[38;5;28mself\u001b[39m\u001b[38;5;241m.\u001b[39mdata_variable \u001b[38;5;241m==\u001b[39m \u001b[38;5;124m\"\u001b[39m\u001b[38;5;124mx\u001b[39m\u001b[38;5;124m\"\u001b[39m \u001b[38;5;28;01melse\u001b[39;00m ax\u001b[38;5;241m.\u001b[39mbarh\n\u001b[1;32m--> 565\u001b[0m     artists \u001b[38;5;241m=\u001b[39m plot_func(\n\u001b[0;32m    566\u001b[0m         hist[\u001b[38;5;124m\"\u001b[39m\u001b[38;5;124medges\u001b[39m\u001b[38;5;124m\"\u001b[39m],\n\u001b[0;32m    567\u001b[0m         hist[\u001b[38;5;124m\"\u001b[39m\u001b[38;5;124mheights\u001b[39m\u001b[38;5;124m\"\u001b[39m] \u001b[38;5;241m-\u001b[39m bottom,\n\u001b[0;32m    568\u001b[0m         hist[\u001b[38;5;124m\"\u001b[39m\u001b[38;5;124mwidths\u001b[39m\u001b[38;5;124m\"\u001b[39m],\n\u001b[0;32m    569\u001b[0m         bottom,\n\u001b[0;32m    570\u001b[0m         align\u001b[38;5;241m=\u001b[39m\u001b[38;5;124m\"\u001b[39m\u001b[38;5;124medge\u001b[39m\u001b[38;5;124m\"\u001b[39m,\n\u001b[0;32m    571\u001b[0m         \u001b[38;5;241m*\u001b[39m\u001b[38;5;241m*\u001b[39martist_kws,\n\u001b[0;32m    572\u001b[0m     )\n\u001b[0;32m    573\u001b[0m     \u001b[38;5;28;01mfor\u001b[39;00m bar \u001b[38;5;129;01min\u001b[39;00m artists:\n\u001b[0;32m    574\u001b[0m         \u001b[38;5;28;01mif\u001b[39;00m \u001b[38;5;28mself\u001b[39m\u001b[38;5;241m.\u001b[39mdata_variable \u001b[38;5;241m==\u001b[39m \u001b[38;5;124m\"\u001b[39m\u001b[38;5;124mx\u001b[39m\u001b[38;5;124m\"\u001b[39m:\n",
      "File \u001b[1;32mC:\\ProgramData\\Anaconda3\\lib\\site-packages\\matplotlib\\__init__.py:1412\u001b[0m, in \u001b[0;36m_preprocess_data.<locals>.inner\u001b[1;34m(ax, data, *args, **kwargs)\u001b[0m\n\u001b[0;32m   1409\u001b[0m \u001b[38;5;129m@functools\u001b[39m\u001b[38;5;241m.\u001b[39mwraps(func)\n\u001b[0;32m   1410\u001b[0m \u001b[38;5;28;01mdef\u001b[39;00m \u001b[38;5;21minner\u001b[39m(ax, \u001b[38;5;241m*\u001b[39margs, data\u001b[38;5;241m=\u001b[39m\u001b[38;5;28;01mNone\u001b[39;00m, \u001b[38;5;241m*\u001b[39m\u001b[38;5;241m*\u001b[39mkwargs):\n\u001b[0;32m   1411\u001b[0m     \u001b[38;5;28;01mif\u001b[39;00m data \u001b[38;5;129;01mis\u001b[39;00m \u001b[38;5;28;01mNone\u001b[39;00m:\n\u001b[1;32m-> 1412\u001b[0m         \u001b[38;5;28;01mreturn\u001b[39;00m func(ax, \u001b[38;5;241m*\u001b[39m\u001b[38;5;28mmap\u001b[39m(sanitize_sequence, args), \u001b[38;5;241m*\u001b[39m\u001b[38;5;241m*\u001b[39mkwargs)\n\u001b[0;32m   1414\u001b[0m     bound \u001b[38;5;241m=\u001b[39m new_sig\u001b[38;5;241m.\u001b[39mbind(ax, \u001b[38;5;241m*\u001b[39margs, \u001b[38;5;241m*\u001b[39m\u001b[38;5;241m*\u001b[39mkwargs)\n\u001b[0;32m   1415\u001b[0m     auto_label \u001b[38;5;241m=\u001b[39m (bound\u001b[38;5;241m.\u001b[39marguments\u001b[38;5;241m.\u001b[39mget(label_namer)\n\u001b[0;32m   1416\u001b[0m                   \u001b[38;5;129;01mor\u001b[39;00m bound\u001b[38;5;241m.\u001b[39mkwargs\u001b[38;5;241m.\u001b[39mget(label_namer))\n",
      "File \u001b[1;32mC:\\ProgramData\\Anaconda3\\lib\\site-packages\\matplotlib\\axes\\_axes.py:2409\u001b[0m, in \u001b[0;36mAxes.bar\u001b[1;34m(self, x, height, width, bottom, align, **kwargs)\u001b[0m\n\u001b[0;32m   2407\u001b[0m     \u001b[38;5;28;01melif\u001b[39;00m orientation \u001b[38;5;241m==\u001b[39m \u001b[38;5;124m'\u001b[39m\u001b[38;5;124mhorizontal\u001b[39m\u001b[38;5;124m'\u001b[39m:\n\u001b[0;32m   2408\u001b[0m         r\u001b[38;5;241m.\u001b[39msticky_edges\u001b[38;5;241m.\u001b[39mx\u001b[38;5;241m.\u001b[39mappend(l)\n\u001b[1;32m-> 2409\u001b[0m     \u001b[38;5;28;43mself\u001b[39;49m\u001b[38;5;241;43m.\u001b[39;49m\u001b[43madd_patch\u001b[49m\u001b[43m(\u001b[49m\u001b[43mr\u001b[49m\u001b[43m)\u001b[49m\n\u001b[0;32m   2410\u001b[0m     patches\u001b[38;5;241m.\u001b[39mappend(r)\n\u001b[0;32m   2412\u001b[0m \u001b[38;5;28;01mif\u001b[39;00m xerr \u001b[38;5;129;01mis\u001b[39;00m \u001b[38;5;129;01mnot\u001b[39;00m \u001b[38;5;28;01mNone\u001b[39;00m \u001b[38;5;129;01mor\u001b[39;00m yerr \u001b[38;5;129;01mis\u001b[39;00m \u001b[38;5;129;01mnot\u001b[39;00m \u001b[38;5;28;01mNone\u001b[39;00m:\n",
      "File \u001b[1;32mC:\\ProgramData\\Anaconda3\\lib\\site-packages\\matplotlib\\axes\\_base.py:2363\u001b[0m, in \u001b[0;36m_AxesBase.add_patch\u001b[1;34m(self, p)\u001b[0m\n\u001b[0;32m   2361\u001b[0m \u001b[38;5;28;01mif\u001b[39;00m p\u001b[38;5;241m.\u001b[39mget_clip_path() \u001b[38;5;129;01mis\u001b[39;00m \u001b[38;5;28;01mNone\u001b[39;00m:\n\u001b[0;32m   2362\u001b[0m     p\u001b[38;5;241m.\u001b[39mset_clip_path(\u001b[38;5;28mself\u001b[39m\u001b[38;5;241m.\u001b[39mpatch)\n\u001b[1;32m-> 2363\u001b[0m \u001b[38;5;28;43mself\u001b[39;49m\u001b[38;5;241;43m.\u001b[39;49m\u001b[43m_update_patch_limits\u001b[49m\u001b[43m(\u001b[49m\u001b[43mp\u001b[49m\u001b[43m)\u001b[49m\n\u001b[0;32m   2364\u001b[0m \u001b[38;5;28mself\u001b[39m\u001b[38;5;241m.\u001b[39m_children\u001b[38;5;241m.\u001b[39mappend(p)\n\u001b[0;32m   2365\u001b[0m p\u001b[38;5;241m.\u001b[39m_remove_method \u001b[38;5;241m=\u001b[39m \u001b[38;5;28mself\u001b[39m\u001b[38;5;241m.\u001b[39m_children\u001b[38;5;241m.\u001b[39mremove\n",
      "File \u001b[1;32mC:\\ProgramData\\Anaconda3\\lib\\site-packages\\matplotlib\\axes\\_base.py:2386\u001b[0m, in \u001b[0;36m_AxesBase._update_patch_limits\u001b[1;34m(self, patch)\u001b[0m\n\u001b[0;32m   2384\u001b[0m \u001b[38;5;28;01mif\u001b[39;00m \u001b[38;5;129;01mnot\u001b[39;00m vertices\u001b[38;5;241m.\u001b[39msize:\n\u001b[0;32m   2385\u001b[0m     \u001b[38;5;28;01mreturn\u001b[39;00m\n\u001b[1;32m-> 2386\u001b[0m patch_trf \u001b[38;5;241m=\u001b[39m \u001b[43mpatch\u001b[49m\u001b[38;5;241;43m.\u001b[39;49m\u001b[43mget_transform\u001b[49m\u001b[43m(\u001b[49m\u001b[43m)\u001b[49m\n\u001b[0;32m   2387\u001b[0m updatex, updatey \u001b[38;5;241m=\u001b[39m patch_trf\u001b[38;5;241m.\u001b[39mcontains_branch_seperately(\u001b[38;5;28mself\u001b[39m\u001b[38;5;241m.\u001b[39mtransData)\n\u001b[0;32m   2388\u001b[0m \u001b[38;5;28;01mif\u001b[39;00m \u001b[38;5;129;01mnot\u001b[39;00m (updatex \u001b[38;5;129;01mor\u001b[39;00m updatey):\n",
      "File \u001b[1;32mC:\\ProgramData\\Anaconda3\\lib\\site-packages\\matplotlib\\patches.py:278\u001b[0m, in \u001b[0;36mPatch.get_transform\u001b[1;34m(self)\u001b[0m\n\u001b[0;32m    276\u001b[0m \u001b[38;5;28;01mdef\u001b[39;00m \u001b[38;5;21mget_transform\u001b[39m(\u001b[38;5;28mself\u001b[39m):\n\u001b[0;32m    277\u001b[0m     \u001b[38;5;124;03m\"\"\"Return the `~.transforms.Transform` applied to the `Patch`.\"\"\"\u001b[39;00m\n\u001b[1;32m--> 278\u001b[0m     \u001b[38;5;28;01mreturn\u001b[39;00m \u001b[38;5;28;43mself\u001b[39;49m\u001b[38;5;241;43m.\u001b[39;49m\u001b[43mget_patch_transform\u001b[49m\u001b[43m(\u001b[49m\u001b[43m)\u001b[49m \u001b[38;5;241m+\u001b[39m artist\u001b[38;5;241m.\u001b[39mArtist\u001b[38;5;241m.\u001b[39mget_transform(\u001b[38;5;28mself\u001b[39m)\n",
      "File \u001b[1;32mC:\\ProgramData\\Anaconda3\\lib\\site-packages\\matplotlib\\patches.py:760\u001b[0m, in \u001b[0;36mRectangle.get_patch_transform\u001b[1;34m(self)\u001b[0m\n\u001b[0;32m    753\u001b[0m \u001b[38;5;28;01mdef\u001b[39;00m \u001b[38;5;21mget_patch_transform\u001b[39m(\u001b[38;5;28mself\u001b[39m):\n\u001b[0;32m    754\u001b[0m     \u001b[38;5;66;03m# Note: This cannot be called until after this has been added to\u001b[39;00m\n\u001b[0;32m    755\u001b[0m     \u001b[38;5;66;03m# an Axes, otherwise unit conversion will fail. This makes it very\u001b[39;00m\n\u001b[0;32m    756\u001b[0m     \u001b[38;5;66;03m# important to call the accessor method and not directly access the\u001b[39;00m\n\u001b[0;32m    757\u001b[0m     \u001b[38;5;66;03m# transformation member variable.\u001b[39;00m\n\u001b[0;32m    758\u001b[0m     bbox \u001b[38;5;241m=\u001b[39m \u001b[38;5;28mself\u001b[39m\u001b[38;5;241m.\u001b[39mget_bbox()\n\u001b[0;32m    759\u001b[0m     \u001b[38;5;28;01mreturn\u001b[39;00m (transforms\u001b[38;5;241m.\u001b[39mBboxTransformTo(bbox)\n\u001b[1;32m--> 760\u001b[0m             \u001b[38;5;241m+\u001b[39m \u001b[43mtransforms\u001b[49m\u001b[38;5;241;43m.\u001b[39;49m\u001b[43mAffine2D\u001b[49m\u001b[43m(\u001b[49m\u001b[43m)\u001b[49m\u001b[38;5;241;43m.\u001b[39;49m\u001b[43mrotate_deg_around\u001b[49m\u001b[43m(\u001b[49m\n\u001b[0;32m    761\u001b[0m \u001b[43m                \u001b[49m\u001b[43mbbox\u001b[49m\u001b[38;5;241;43m.\u001b[39;49m\u001b[43mx0\u001b[49m\u001b[43m,\u001b[49m\u001b[43m \u001b[49m\u001b[43mbbox\u001b[49m\u001b[38;5;241;43m.\u001b[39;49m\u001b[43my0\u001b[49m\u001b[43m,\u001b[49m\u001b[43m \u001b[49m\u001b[38;5;28;43mself\u001b[39;49m\u001b[38;5;241;43m.\u001b[39;49m\u001b[43mangle\u001b[49m\u001b[43m)\u001b[49m)\n",
      "File \u001b[1;32mC:\\ProgramData\\Anaconda3\\lib\\site-packages\\matplotlib\\transforms.py:2042\u001b[0m, in \u001b[0;36mAffine2D.rotate_deg_around\u001b[1;34m(self, x, y, degrees)\u001b[0m\n\u001b[0;32m   2040\u001b[0m \u001b[38;5;66;03m# Cast to float to avoid wraparound issues with uint8's\u001b[39;00m\n\u001b[0;32m   2041\u001b[0m x, y \u001b[38;5;241m=\u001b[39m \u001b[38;5;28mfloat\u001b[39m(x), \u001b[38;5;28mfloat\u001b[39m(y)\n\u001b[1;32m-> 2042\u001b[0m \u001b[38;5;28;01mreturn\u001b[39;00m \u001b[38;5;28;43mself\u001b[39;49m\u001b[38;5;241;43m.\u001b[39;49m\u001b[43mtranslate\u001b[49m\u001b[43m(\u001b[49m\u001b[38;5;241;43m-\u001b[39;49m\u001b[43mx\u001b[49m\u001b[43m,\u001b[49m\u001b[43m \u001b[49m\u001b[38;5;241;43m-\u001b[39;49m\u001b[43my\u001b[49m\u001b[43m)\u001b[49m\u001b[38;5;241;43m.\u001b[39;49m\u001b[43mrotate_deg\u001b[49m\u001b[43m(\u001b[49m\u001b[43mdegrees\u001b[49m\u001b[43m)\u001b[49m\u001b[38;5;241m.\u001b[39mtranslate(x, y)\n",
      "File \u001b[1;32mC:\\ProgramData\\Anaconda3\\lib\\site-packages\\matplotlib\\transforms.py:2020\u001b[0m, in \u001b[0;36mAffine2D.rotate_deg\u001b[1;34m(self, degrees)\u001b[0m\n\u001b[0;32m   2012\u001b[0m \u001b[38;5;28;01mdef\u001b[39;00m \u001b[38;5;21mrotate_deg\u001b[39m(\u001b[38;5;28mself\u001b[39m, degrees):\n\u001b[0;32m   2013\u001b[0m     \u001b[38;5;124;03m\"\"\"\u001b[39;00m\n\u001b[0;32m   2014\u001b[0m \u001b[38;5;124;03m    Add a rotation (in degrees) to this transform in place.\u001b[39;00m\n\u001b[0;32m   2015\u001b[0m \n\u001b[1;32m   (...)\u001b[0m\n\u001b[0;32m   2018\u001b[0m \u001b[38;5;124;03m    and :meth:`scale`.\u001b[39;00m\n\u001b[0;32m   2019\u001b[0m \u001b[38;5;124;03m    \"\"\"\u001b[39;00m\n\u001b[1;32m-> 2020\u001b[0m     \u001b[38;5;28;01mreturn\u001b[39;00m \u001b[38;5;28;43mself\u001b[39;49m\u001b[38;5;241;43m.\u001b[39;49m\u001b[43mrotate\u001b[49m\u001b[43m(\u001b[49m\u001b[43mmath\u001b[49m\u001b[38;5;241;43m.\u001b[39;49m\u001b[43mradians\u001b[49m\u001b[43m(\u001b[49m\u001b[43mdegrees\u001b[49m\u001b[43m)\u001b[49m\u001b[43m)\u001b[49m\n",
      "File \u001b[1;32mC:\\ProgramData\\Anaconda3\\lib\\site-packages\\matplotlib\\transforms.py:2008\u001b[0m, in \u001b[0;36mAffine2D.rotate\u001b[1;34m(self, theta)\u001b[0m\n\u001b[0;32m   2005\u001b[0m b \u001b[38;5;241m=\u001b[39m math\u001b[38;5;241m.\u001b[39msin(theta)\n\u001b[0;32m   2006\u001b[0m rotate_mtx \u001b[38;5;241m=\u001b[39m np\u001b[38;5;241m.\u001b[39marray([[a, \u001b[38;5;241m-\u001b[39mb, \u001b[38;5;241m0.0\u001b[39m], [b, a, \u001b[38;5;241m0.0\u001b[39m], [\u001b[38;5;241m0.0\u001b[39m, \u001b[38;5;241m0.0\u001b[39m, \u001b[38;5;241m1.0\u001b[39m]],\n\u001b[0;32m   2007\u001b[0m                       \u001b[38;5;28mfloat\u001b[39m)\n\u001b[1;32m-> 2008\u001b[0m \u001b[38;5;28mself\u001b[39m\u001b[38;5;241m.\u001b[39m_mtx \u001b[38;5;241m=\u001b[39m \u001b[43mnp\u001b[49m\u001b[38;5;241;43m.\u001b[39;49m\u001b[43mdot\u001b[49m\u001b[43m(\u001b[49m\u001b[43mrotate_mtx\u001b[49m\u001b[43m,\u001b[49m\u001b[43m \u001b[49m\u001b[38;5;28;43mself\u001b[39;49m\u001b[38;5;241;43m.\u001b[39;49m\u001b[43m_mtx\u001b[49m\u001b[43m)\u001b[49m\n\u001b[0;32m   2009\u001b[0m \u001b[38;5;28mself\u001b[39m\u001b[38;5;241m.\u001b[39minvalidate()\n\u001b[0;32m   2010\u001b[0m \u001b[38;5;28;01mreturn\u001b[39;00m \u001b[38;5;28mself\u001b[39m\n",
      "File \u001b[1;32m<__array_function__ internals>:5\u001b[0m, in \u001b[0;36mdot\u001b[1;34m(*args, **kwargs)\u001b[0m\n",
      "\u001b[1;31mKeyboardInterrupt\u001b[0m: "
     ]
    },
    {
     "data": {
      "image/png": "[encoded data removed]",
      "text/plain": [
       "<Figure size 750x750 with 12 Axes>"
      ]
     },
     "metadata": {},
     "output_type": "display_data"
    }
   ],
   "source": [
    "# sns.pairplot(data_no_nulls[['price','year','odometer']])"
   ]
  },
  {
   "cell_type": "code",
   "execution_count": 30,
   "metadata": {},
   "outputs": [],
   "source": [
    "X = data_no_nulls.drop('price', axis=1)\n",
    "y = data_no_nulls['price']"
   ]
  },
  {
   "cell_type": "code",
   "execution_count": 31,
   "metadata": {},
   "outputs": [],
   "source": [
    "X_train, X_test, y_train, y_test = train_test_split(X,y, test_size=0.3, random_state=22)"
   ]
  },
  {
   "cell_type": "code",
   "execution_count": 32,
   "metadata": {
    "scrolled": true
   },
   "outputs": [
    {
     "data": {
      "text/html": [
       "<div>\n",
       "<style scoped>\n",
       "    .dataframe tbody tr th:only-of-type {\n",
       "        vertical-align: middle;\n",
       "    }\n",
       "\n",
       "    .dataframe tbody tr th {\n",
       "        vertical-align: top;\n",
       "    }\n",
       "\n",
       "    .dataframe thead th {\n",
       "        text-align: right;\n",
       "    }\n",
       "</style>\n",
       "<table border=\"1\" class=\"dataframe\">\n",
       "  <thead>\n",
       "    <tr style=\"text-align: right;\">\n",
       "      <th></th>\n",
       "      <th>year</th>\n",
       "      <th>condition</th>\n",
       "      <th>odometer</th>\n",
       "      <th>title_status</th>\n",
       "      <th>drive</th>\n",
       "      <th>type</th>\n",
       "    </tr>\n",
       "  </thead>\n",
       "  <tbody>\n",
       "    <tr>\n",
       "      <th>336556</th>\n",
       "      <td>2001.0</td>\n",
       "      <td>like new</td>\n",
       "      <td>50000.0</td>\n",
       "      <td>clean</td>\n",
       "      <td>rwd</td>\n",
       "      <td>coupe</td>\n",
       "    </tr>\n",
       "    <tr>\n",
       "      <th>281465</th>\n",
       "      <td>2009.0</td>\n",
       "      <td>good</td>\n",
       "      <td>192335.0</td>\n",
       "      <td>clean</td>\n",
       "      <td>4wd</td>\n",
       "      <td>sedan</td>\n",
       "    </tr>\n",
       "    <tr>\n",
       "      <th>383939</th>\n",
       "      <td>2014.0</td>\n",
       "      <td>like new</td>\n",
       "      <td>197746.0</td>\n",
       "      <td>clean</td>\n",
       "      <td>4wd</td>\n",
       "      <td>truck</td>\n",
       "    </tr>\n",
       "    <tr>\n",
       "      <th>249323</th>\n",
       "      <td>2014.0</td>\n",
       "      <td>good</td>\n",
       "      <td>82170.0</td>\n",
       "      <td>clean</td>\n",
       "      <td>4wd</td>\n",
       "      <td>other</td>\n",
       "    </tr>\n",
       "    <tr>\n",
       "      <th>272668</th>\n",
       "      <td>2008.0</td>\n",
       "      <td>like new</td>\n",
       "      <td>60000.0</td>\n",
       "      <td>clean</td>\n",
       "      <td>fwd</td>\n",
       "      <td>sedan</td>\n",
       "    </tr>\n",
       "  </tbody>\n",
       "</table>\n",
       "</div>"
      ],
      "text/plain": [
       "          year condition  odometer title_status drive   type\n",
       "336556  2001.0  like new   50000.0        clean   rwd  coupe\n",
       "281465  2009.0      good  192335.0        clean   4wd  sedan\n",
       "383939  2014.0  like new  197746.0        clean   4wd  truck\n",
       "249323  2014.0      good   82170.0        clean   4wd  other\n",
       "272668  2008.0  like new   60000.0        clean   fwd  sedan"
      ]
     },
     "execution_count": 32,
     "metadata": {},
     "output_type": "execute_result"
    }
   ],
   "source": [
    "X_train.head()"
   ]
  },
  {
   "cell_type": "code",
   "execution_count": 33,
   "metadata": {
    "scrolled": true
   },
   "outputs": [
    {
     "data": {
      "text/plain": [
       "336556    10900\n",
       "281465     4300\n",
       "383939    16000\n",
       "249323    19695\n",
       "272668     7999\n",
       "Name: price, dtype: int64"
      ]
     },
     "execution_count": 33,
     "metadata": {},
     "output_type": "execute_result"
    }
   ],
   "source": [
    "y_train.head()"
   ]
  },
  {
   "cell_type": "markdown",
   "metadata": {},
   "source": [
    "### Modeling\n",
    "\n",
    "With your (almost?) final dataset in hand, it is now time to build some models.  Here, you should build a number of different regression models with the price as the target.  In building your models, you should explore different parameters and be sure to cross-validate your findings."
   ]
  },
  {
   "cell_type": "code",
   "execution_count": 34,
   "metadata": {},
   "outputs": [],
   "source": [
    "from sklearn.compose import make_column_transformer, make_column_selector\n",
    "from sklearn.pipeline import Pipeline\n",
    "from sklearn.linear_model import LinearRegression\n",
    "from sklearn.feature_selection import SequentialFeatureSelector"
   ]
  },
  {
   "cell_type": "code",
   "execution_count": 35,
   "metadata": {},
   "outputs": [
    {
     "data": {
      "text/html": [
       "<div>\n",
       "<style scoped>\n",
       "    .dataframe tbody tr th:only-of-type {\n",
       "        vertical-align: middle;\n",
       "    }\n",
       "\n",
       "    .dataframe tbody tr th {\n",
       "        vertical-align: top;\n",
       "    }\n",
       "\n",
       "    .dataframe thead th {\n",
       "        text-align: right;\n",
       "    }\n",
       "</style>\n",
       "<table border=\"1\" class=\"dataframe\">\n",
       "  <thead>\n",
       "    <tr style=\"text-align: right;\">\n",
       "      <th></th>\n",
       "      <th>year</th>\n",
       "      <th>condition</th>\n",
       "      <th>odometer</th>\n",
       "      <th>title_status</th>\n",
       "      <th>drive</th>\n",
       "      <th>type</th>\n",
       "    </tr>\n",
       "  </thead>\n",
       "  <tbody>\n",
       "    <tr>\n",
       "      <th>336556</th>\n",
       "      <td>2001.0</td>\n",
       "      <td>like new</td>\n",
       "      <td>50000.0</td>\n",
       "      <td>clean</td>\n",
       "      <td>rwd</td>\n",
       "      <td>coupe</td>\n",
       "    </tr>\n",
       "    <tr>\n",
       "      <th>281465</th>\n",
       "      <td>2009.0</td>\n",
       "      <td>good</td>\n",
       "      <td>192335.0</td>\n",
       "      <td>clean</td>\n",
       "      <td>4wd</td>\n",
       "      <td>sedan</td>\n",
       "    </tr>\n",
       "    <tr>\n",
       "      <th>383939</th>\n",
       "      <td>2014.0</td>\n",
       "      <td>like new</td>\n",
       "      <td>197746.0</td>\n",
       "      <td>clean</td>\n",
       "      <td>4wd</td>\n",
       "      <td>truck</td>\n",
       "    </tr>\n",
       "    <tr>\n",
       "      <th>249323</th>\n",
       "      <td>2014.0</td>\n",
       "      <td>good</td>\n",
       "      <td>82170.0</td>\n",
       "      <td>clean</td>\n",
       "      <td>4wd</td>\n",
       "      <td>other</td>\n",
       "    </tr>\n",
       "    <tr>\n",
       "      <th>272668</th>\n",
       "      <td>2008.0</td>\n",
       "      <td>like new</td>\n",
       "      <td>60000.0</td>\n",
       "      <td>clean</td>\n",
       "      <td>fwd</td>\n",
       "      <td>sedan</td>\n",
       "    </tr>\n",
       "  </tbody>\n",
       "</table>\n",
       "</div>"
      ],
      "text/plain": [
       "          year condition  odometer title_status drive   type\n",
       "336556  2001.0  like new   50000.0        clean   rwd  coupe\n",
       "281465  2009.0      good  192335.0        clean   4wd  sedan\n",
       "383939  2014.0  like new  197746.0        clean   4wd  truck\n",
       "249323  2014.0      good   82170.0        clean   4wd  other\n",
       "272668  2008.0  like new   60000.0        clean   fwd  sedan"
      ]
     },
     "execution_count": 35,
     "metadata": {},
     "output_type": "execute_result"
    }
   ],
   "source": [
    "X_train.head()"
   ]
  },
  {
   "cell_type": "code",
   "execution_count": 36,
   "metadata": {},
   "outputs": [
    {
     "data": {
      "text/plain": [
       "array([[0.00000e+00, 0.00000e+00, 1.00000e+00, 0.00000e+00, 0.00000e+00,\n",
       "        0.00000e+00, 1.00000e+00, 0.00000e+00, 0.00000e+00, 0.00000e+00,\n",
       "        0.00000e+00, 0.00000e+00, 0.00000e+00, 0.00000e+00, 0.00000e+00,\n",
       "        0.00000e+00, 0.00000e+00, 1.00000e+00, 2.00100e+03, 5.00000e+04],\n",
       "       [1.00000e+00, 0.00000e+00, 0.00000e+00, 0.00000e+00, 0.00000e+00,\n",
       "        0.00000e+00, 0.00000e+00, 0.00000e+00, 0.00000e+00, 0.00000e+00,\n",
       "        0.00000e+00, 0.00000e+00, 1.00000e+00, 0.00000e+00, 0.00000e+00,\n",
       "        0.00000e+00, 0.00000e+00, 3.00000e+00, 2.00900e+03, 1.92335e+05],\n",
       "       [1.00000e+00, 0.00000e+00, 0.00000e+00, 0.00000e+00, 0.00000e+00,\n",
       "        0.00000e+00, 0.00000e+00, 0.00000e+00, 0.00000e+00, 0.00000e+00,\n",
       "        0.00000e+00, 0.00000e+00, 0.00000e+00, 1.00000e+00, 0.00000e+00,\n",
       "        0.00000e+00, 0.00000e+00, 1.00000e+00, 2.01400e+03, 1.97746e+05],\n",
       "       [1.00000e+00, 0.00000e+00, 0.00000e+00, 0.00000e+00, 0.00000e+00,\n",
       "        0.00000e+00, 0.00000e+00, 0.00000e+00, 0.00000e+00, 0.00000e+00,\n",
       "        1.00000e+00, 0.00000e+00, 0.00000e+00, 0.00000e+00, 0.00000e+00,\n",
       "        0.00000e+00, 0.00000e+00, 3.00000e+00, 2.01400e+03, 8.21700e+04],\n",
       "       [0.00000e+00, 1.00000e+00, 0.00000e+00, 0.00000e+00, 0.00000e+00,\n",
       "        0.00000e+00, 0.00000e+00, 0.00000e+00, 0.00000e+00, 0.00000e+00,\n",
       "        0.00000e+00, 0.00000e+00, 1.00000e+00, 0.00000e+00, 0.00000e+00,\n",
       "        0.00000e+00, 0.00000e+00, 1.00000e+00, 2.00800e+03, 6.00000e+04]])"
      ]
     },
     "execution_count": 36,
     "metadata": {},
     "output_type": "execute_result"
    }
   ],
   "source": [
    "### Let us prepare our transformer: \n",
    "### a. OneHotEncoder to encode features: 'drive' and 'type'\n",
    "### b. OrdinalEncoder to encode 'title_status' and 'condition' features\n",
    "\n",
    "transformer = make_column_transformer(\n",
    "    (OneHotEncoder(drop = 'if_binary'), ['drive','type']),\n",
    "    (OrdinalEncoder(categories = [['clean', 'rebuilt', 'lien', 'parts only', 'missing', 'salvage']]), ['title_status']),\n",
    "    (OrdinalEncoder(categories = [['new', 'like new', 'excellent', 'good', 'fair', 'salvage']]), ['condition']),\n",
    "    remainder='passthrough')\n",
    "transformer.fit_transform(X_train)[:5]"
   ]
  },
  {
   "cell_type": "code",
   "execution_count": 38,
   "metadata": {},
   "outputs": [],
   "source": [
    "pipe_01 = Pipeline([\n",
    "    ('col_transformer', transformer), \n",
    "    ('Scaler',StandardScaler()),\n",
    "    ('linreg', LinearRegression(fit_intercept=False))])\n"
   ]
  },
  {
   "cell_type": "code",
   "execution_count": 39,
   "metadata": {},
   "outputs": [
    {
     "data": {
      "text/plain": [
       "128605636398863.52"
      ]
     },
     "execution_count": 39,
     "metadata": {},
     "output_type": "execute_result"
    }
   ],
   "source": [
    "pipe_01.fit(X_train, y_train)\n",
    "X_predict_01 = pipe_01.predict(X_train)\n",
    "mse_01 = mean_squared_error(X_predict_01, y_train)\n",
    "mse_01"
   ]
  },
  {
   "cell_type": "code",
   "execution_count": 40,
   "metadata": {},
   "outputs": [
    {
     "data": {
      "text/html": [
       "<div>\n",
       "<style scoped>\n",
       "    .dataframe tbody tr th:only-of-type {\n",
       "        vertical-align: middle;\n",
       "    }\n",
       "\n",
       "    .dataframe tbody tr th {\n",
       "        vertical-align: top;\n",
       "    }\n",
       "\n",
       "    .dataframe thead th {\n",
       "        text-align: right;\n",
       "    }\n",
       "</style>\n",
       "<table border=\"1\" class=\"dataframe\">\n",
       "  <thead>\n",
       "    <tr style=\"text-align: right;\">\n",
       "      <th></th>\n",
       "      <th>year</th>\n",
       "      <th>condition</th>\n",
       "      <th>odometer</th>\n",
       "      <th>title_status</th>\n",
       "      <th>drive</th>\n",
       "      <th>type</th>\n",
       "    </tr>\n",
       "  </thead>\n",
       "  <tbody>\n",
       "    <tr>\n",
       "      <th>336556</th>\n",
       "      <td>2001.0</td>\n",
       "      <td>like new</td>\n",
       "      <td>50000.0</td>\n",
       "      <td>clean</td>\n",
       "      <td>rwd</td>\n",
       "      <td>coupe</td>\n",
       "    </tr>\n",
       "    <tr>\n",
       "      <th>281465</th>\n",
       "      <td>2009.0</td>\n",
       "      <td>good</td>\n",
       "      <td>192335.0</td>\n",
       "      <td>clean</td>\n",
       "      <td>4wd</td>\n",
       "      <td>sedan</td>\n",
       "    </tr>\n",
       "    <tr>\n",
       "      <th>383939</th>\n",
       "      <td>2014.0</td>\n",
       "      <td>like new</td>\n",
       "      <td>197746.0</td>\n",
       "      <td>clean</td>\n",
       "      <td>4wd</td>\n",
       "      <td>truck</td>\n",
       "    </tr>\n",
       "    <tr>\n",
       "      <th>249323</th>\n",
       "      <td>2014.0</td>\n",
       "      <td>good</td>\n",
       "      <td>82170.0</td>\n",
       "      <td>clean</td>\n",
       "      <td>4wd</td>\n",
       "      <td>other</td>\n",
       "    </tr>\n",
       "    <tr>\n",
       "      <th>272668</th>\n",
       "      <td>2008.0</td>\n",
       "      <td>like new</td>\n",
       "      <td>60000.0</td>\n",
       "      <td>clean</td>\n",
       "      <td>fwd</td>\n",
       "      <td>sedan</td>\n",
       "    </tr>\n",
       "  </tbody>\n",
       "</table>\n",
       "</div>"
      ],
      "text/plain": [
       "          year condition  odometer title_status drive   type\n",
       "336556  2001.0  like new   50000.0        clean   rwd  coupe\n",
       "281465  2009.0      good  192335.0        clean   4wd  sedan\n",
       "383939  2014.0  like new  197746.0        clean   4wd  truck\n",
       "249323  2014.0      good   82170.0        clean   4wd  other\n",
       "272668  2008.0  like new   60000.0        clean   fwd  sedan"
      ]
     },
     "execution_count": 40,
     "metadata": {},
     "output_type": "execute_result"
    }
   ],
   "source": [
    "X_train.head()"
   ]
  },
  {
   "cell_type": "code",
   "execution_count": 41,
   "metadata": {},
   "outputs": [
    {
     "data": {
      "text/plain": [
       "128587502554542.45"
      ]
     },
     "execution_count": 41,
     "metadata": {},
     "output_type": "execute_result"
    }
   ],
   "source": [
    "### Now, let's try a polynomial 2 features model\n",
    "pipe_poly_2 = Pipeline([\n",
    "    ('col_transformer', transformer), \n",
    "    ('Scaler',StandardScaler()),\n",
    "    ('quad_features', PolynomialFeatures(degree=2)),\n",
    "    ('linreg', LinearRegression(fit_intercept=False))])\n",
    "pipe_poly_2.fit(X_train, y_train)\n",
    "X_predict_poly_2 = pipe_poly_2.predict(X_train)\n",
    "mse_poly_2 = mean_squared_error(X_predict_poly_2, y_train)\n",
    "mse_poly_2"
   ]
  },
  {
   "cell_type": "code",
   "execution_count": 42,
   "metadata": {},
   "outputs": [
    {
     "data": {
      "text/html": [
       "<div>\n",
       "<style scoped>\n",
       "    .dataframe tbody tr th:only-of-type {\n",
       "        vertical-align: middle;\n",
       "    }\n",
       "\n",
       "    .dataframe tbody tr th {\n",
       "        vertical-align: top;\n",
       "    }\n",
       "\n",
       "    .dataframe thead th {\n",
       "        text-align: right;\n",
       "    }\n",
       "</style>\n",
       "<table border=\"1\" class=\"dataframe\">\n",
       "  <thead>\n",
       "    <tr style=\"text-align: right;\">\n",
       "      <th></th>\n",
       "      <th>index</th>\n",
       "      <th>0</th>\n",
       "    </tr>\n",
       "  </thead>\n",
       "  <tbody>\n",
       "    <tr>\n",
       "      <th>0</th>\n",
       "      <td>2.268472e+12</td>\n",
       "      <td>1</td>\n",
       "    </tr>\n",
       "    <tr>\n",
       "      <th>1</th>\n",
       "      <td>2.824604e+15</td>\n",
       "      <td>x0</td>\n",
       "    </tr>\n",
       "    <tr>\n",
       "      <th>2</th>\n",
       "      <td>1.632493e+15</td>\n",
       "      <td>x1</td>\n",
       "    </tr>\n",
       "    <tr>\n",
       "      <th>3</th>\n",
       "      <td>2.494855e+14</td>\n",
       "      <td>x2</td>\n",
       "    </tr>\n",
       "    <tr>\n",
       "      <th>4</th>\n",
       "      <td>-1.090128e+15</td>\n",
       "      <td>x3</td>\n",
       "    </tr>\n",
       "    <tr>\n",
       "      <th>...</th>\n",
       "      <td>...</td>\n",
       "      <td>...</td>\n",
       "    </tr>\n",
       "    <tr>\n",
       "      <th>226</th>\n",
       "      <td>4.932652e+03</td>\n",
       "      <td>x17 x18</td>\n",
       "    </tr>\n",
       "    <tr>\n",
       "      <th>227</th>\n",
       "      <td>-8.253607e+03</td>\n",
       "      <td>x17 x19</td>\n",
       "    </tr>\n",
       "    <tr>\n",
       "      <th>228</th>\n",
       "      <td>-1.148838e+04</td>\n",
       "      <td>x18^2</td>\n",
       "    </tr>\n",
       "    <tr>\n",
       "      <th>229</th>\n",
       "      <td>1.124945e+03</td>\n",
       "      <td>x18 x19</td>\n",
       "    </tr>\n",
       "    <tr>\n",
       "      <th>230</th>\n",
       "      <td>-2.025000e+03</td>\n",
       "      <td>x19^2</td>\n",
       "    </tr>\n",
       "  </tbody>\n",
       "</table>\n",
       "<p>231 rows × 2 columns</p>\n",
       "</div>"
      ],
      "text/plain": [
       "            index        0\n",
       "0    2.268472e+12        1\n",
       "1    2.824604e+15       x0\n",
       "2    1.632493e+15       x1\n",
       "3    2.494855e+14       x2\n",
       "4   -1.090128e+15       x3\n",
       "..            ...      ...\n",
       "226  4.932652e+03  x17 x18\n",
       "227 -8.253607e+03  x17 x19\n",
       "228 -1.148838e+04    x18^2\n",
       "229  1.124945e+03  x18 x19\n",
       "230 -2.025000e+03    x19^2\n",
       "\n",
       "[231 rows x 2 columns]"
      ]
     },
     "execution_count": 42,
     "metadata": {},
     "output_type": "execute_result"
    }
   ],
   "source": [
    "#pipe_poly_2['quad_features'].get_feature_names_out()\n",
    "#pipe_poly_2['linreg'].coef_\n",
    "poly_2_df = pd.DataFrame(pipe_poly_2['quad_features'].get_feature_names_out(), pipe_poly_2['linreg'].coef_)\n",
    "poly_2_df.reset_index()"
   ]
  },
  {
   "cell_type": "code",
   "execution_count": 43,
   "metadata": {},
   "outputs": [
    {
     "data": {
      "text/plain": [
       "array(['1', 'x0', 'x1', 'x2', 'x3', 'x4', 'x5', 'x6', 'x7', 'x8', 'x9',\n",
       "       'x10', 'x11', 'x12', 'x13', 'x14', 'x15', 'x16', 'x17', 'x18',\n",
       "       'x19', 'x0^2', 'x0 x1', 'x0 x2', 'x0 x3', 'x0 x4', 'x0 x5',\n",
       "       'x0 x6', 'x0 x7', 'x0 x8', 'x0 x9', 'x0 x10', 'x0 x11', 'x0 x12',\n",
       "       'x0 x13', 'x0 x14', 'x0 x15', 'x0 x16', 'x0 x17', 'x0 x18',\n",
       "       'x0 x19', 'x1^2', 'x1 x2', 'x1 x3', 'x1 x4', 'x1 x5', 'x1 x6',\n",
       "       'x1 x7', 'x1 x8', 'x1 x9', 'x1 x10', 'x1 x11', 'x1 x12', 'x1 x13',\n",
       "       'x1 x14', 'x1 x15', 'x1 x16', 'x1 x17', 'x1 x18', 'x1 x19', 'x2^2',\n",
       "       'x2 x3', 'x2 x4', 'x2 x5', 'x2 x6', 'x2 x7', 'x2 x8', 'x2 x9',\n",
       "       'x2 x10', 'x2 x11', 'x2 x12', 'x2 x13', 'x2 x14', 'x2 x15',\n",
       "       'x2 x16', 'x2 x17', 'x2 x18', 'x2 x19', 'x3^2', 'x3 x4', 'x3 x5',\n",
       "       'x3 x6', 'x3 x7', 'x3 x8', 'x3 x9', 'x3 x10', 'x3 x11', 'x3 x12',\n",
       "       'x3 x13', 'x3 x14', 'x3 x15', 'x3 x16', 'x3 x17', 'x3 x18',\n",
       "       'x3 x19', 'x4^2', 'x4 x5', 'x4 x6', 'x4 x7', 'x4 x8', 'x4 x9',\n",
       "       'x4 x10', 'x4 x11', 'x4 x12', 'x4 x13', 'x4 x14', 'x4 x15',\n",
       "       'x4 x16', 'x4 x17', 'x4 x18', 'x4 x19', 'x5^2', 'x5 x6', 'x5 x7',\n",
       "       'x5 x8', 'x5 x9', 'x5 x10', 'x5 x11', 'x5 x12', 'x5 x13', 'x5 x14',\n",
       "       'x5 x15', 'x5 x16', 'x5 x17', 'x5 x18', 'x5 x19', 'x6^2', 'x6 x7',\n",
       "       'x6 x8', 'x6 x9', 'x6 x10', 'x6 x11', 'x6 x12', 'x6 x13', 'x6 x14',\n",
       "       'x6 x15', 'x6 x16', 'x6 x17', 'x6 x18', 'x6 x19', 'x7^2', 'x7 x8',\n",
       "       'x7 x9', 'x7 x10', 'x7 x11', 'x7 x12', 'x7 x13', 'x7 x14',\n",
       "       'x7 x15', 'x7 x16', 'x7 x17', 'x7 x18', 'x7 x19', 'x8^2', 'x8 x9',\n",
       "       'x8 x10', 'x8 x11', 'x8 x12', 'x8 x13', 'x8 x14', 'x8 x15',\n",
       "       'x8 x16', 'x8 x17', 'x8 x18', 'x8 x19', 'x9^2', 'x9 x10', 'x9 x11',\n",
       "       'x9 x12', 'x9 x13', 'x9 x14', 'x9 x15', 'x9 x16', 'x9 x17',\n",
       "       'x9 x18', 'x9 x19', 'x10^2', 'x10 x11', 'x10 x12', 'x10 x13',\n",
       "       'x10 x14', 'x10 x15', 'x10 x16', 'x10 x17', 'x10 x18', 'x10 x19',\n",
       "       'x11^2', 'x11 x12', 'x11 x13', 'x11 x14', 'x11 x15', 'x11 x16',\n",
       "       'x11 x17', 'x11 x18', 'x11 x19', 'x12^2', 'x12 x13', 'x12 x14',\n",
       "       'x12 x15', 'x12 x16', 'x12 x17', 'x12 x18', 'x12 x19', 'x13^2',\n",
       "       'x13 x14', 'x13 x15', 'x13 x16', 'x13 x17', 'x13 x18', 'x13 x19',\n",
       "       'x14^2', 'x14 x15', 'x14 x16', 'x14 x17', 'x14 x18', 'x14 x19',\n",
       "       'x15^2', 'x15 x16', 'x15 x17', 'x15 x18', 'x15 x19', 'x16^2',\n",
       "       'x16 x17', 'x16 x18', 'x16 x19', 'x17^2', 'x17 x18', 'x17 x19',\n",
       "       'x18^2', 'x18 x19', 'x19^2'], dtype=object)"
      ]
     },
     "execution_count": 43,
     "metadata": {},
     "output_type": "execute_result"
    }
   ],
   "source": [
    "pipe_poly_2['quad_features'].get_feature_names_out()"
   ]
  },
  {
   "cell_type": "code",
   "execution_count": 44,
   "metadata": {},
   "outputs": [
    {
     "data": {
      "text/plain": [
       "128508318809798.25"
      ]
     },
     "execution_count": 44,
     "metadata": {},
     "output_type": "execute_result"
    }
   ],
   "source": [
    "### Now, let's try a polynomial 3 features model\n",
    "pipe_poly_3 = Pipeline([\n",
    "    ('col_transformer', transformer), \n",
    "    ('Scaler',StandardScaler()),\n",
    "    ('quad_features', PolynomialFeatures(degree=3)),\n",
    "    ('linreg', LinearRegression(fit_intercept=False))])\n",
    "pipe_poly_3.fit(X_train, y_train)\n",
    "X_predict_poly_3 = pipe_poly_3.predict(X_train)\n",
    "mse_poly_3 = mean_squared_error(X_predict_poly_3, y_train)\n",
    "mse_poly_3"
   ]
  },
  {
   "cell_type": "code",
   "execution_count": null,
   "metadata": {},
   "outputs": [],
   "source": [
    "### *** This step will take ~ 10-15 minutes to complete ***\n",
    "train_mses = []\n",
    "test_mses = []\n",
    "\n",
    "for complexity in range(1,5):\n",
    "    pipe = Pipeline([\n",
    "        ('col_transformer', transformer), \n",
    "        ('Scaler',StandardScaler()),\n",
    "        ('quad_features', PolynomialFeatures(degree=complexity)),\n",
    "        ('linreg', LinearRegression(fit_intercept=False))\n",
    "    ])\n",
    "    pipe.fit(X_train, y_train)\n",
    "    pred_train = pipe.predict(X_train)\n",
    "    pred_test = pipe.predict(X_test)\n",
    "    train_mse = mean_squared_error(y_train, pred_train)\n",
    "    test_mse = mean_squared_error(y_test, pred_test)\n",
    "    train_mses.append(train_mse)\n",
    "    test_mses.append(test_mse)\n",
    "    \n",
    "pd.DataFrame({\n",
    "    'Training MSEs': train_mses,\n",
    "    'Testing MSEs': test_mses\n",
    "})"
   ]
  },
  {
   "cell_type": "code",
   "execution_count": null,
   "metadata": {
    "scrolled": true
   },
   "outputs": [],
   "source": [
    "\n",
    "# LEt us plot the graph of train MSE vs. Test MSE\n",
    "plt.plot(range(1, 5), train_mses, '--o', label = 'training error')\n",
    "plt.plot(range(1, 5), test_mses, '--o', label = 'testing error')\n",
    "plt.xticks(range(1, 5), range(1, 5))\n",
    "plt.xlabel('Degree Complexity')\n",
    "plt.ylabel('Mean Squared Error')\n",
    "plt.legend();"
   ]
  },
  {
   "cell_type": "code",
   "execution_count": null,
   "metadata": {
    "scrolled": true
   },
   "outputs": [],
   "source": [
    "#LEts find minimum test MSE\n",
    "test_mses.index(min(test_mses)) + 1"
   ]
  },
  {
   "cell_type": "markdown",
   "metadata": {},
   "source": [
    "#### So, we know that complexity of 1 would yeild us the best model. Let us proceed with that"
   ]
  },
  {
   "cell_type": "code",
   "execution_count": null,
   "metadata": {},
   "outputs": [],
   "source": [
    "# Now, lets use Permutation feature importance to figure out which column would have the best correlation"
   ]
  },
  {
   "cell_type": "code",
   "execution_count": 46,
   "metadata": {},
   "outputs": [
    {
     "data": {
      "text/plain": [
       "-0.061091473669685925"
      ]
     },
     "execution_count": 46,
     "metadata": {},
     "output_type": "execute_result"
    }
   ],
   "source": [
    "pipe = Pipeline([\n",
    "        ('col_transformer', transformer), \n",
    "        ('Scaler',StandardScaler()),\n",
    "        ('quad_features', PolynomialFeatures(degree=1)),\n",
    "        ('linreg', LinearRegression(fit_intercept=False))\n",
    "    ])\n",
    "pipe.fit(X_train, y_train)\n",
    "pipe.score(X_test,y_test)"
   ]
  },
  {
   "cell_type": "code",
   "execution_count": null,
   "metadata": {},
   "outputs": [],
   "source": []
  },
  {
   "cell_type": "code",
   "execution_count": 47,
   "metadata": {
    "scrolled": true
   },
   "outputs": [
    {
     "name": "stdout",
     "output_type": "stream",
     "text": [
      "condition                0.003 +/- 0.000\n",
      "drive                    0.000 +/- 0.000\n"
     ]
    }
   ],
   "source": [
    "from sklearn.inspection import permutation_importance\n",
    "r = permutation_importance(pipe, X_test, y_test, n_repeats=30, random_state=0)\n",
    "\n",
    "for i in r.importances_mean.argsort()[::-1]:\n",
    "    if r.importances_mean[i] - 2 * r.importances_std[i] > 0:\n",
    "        print(f\"{X_test.columns[i]:<25}\"\n",
    "              f\"{r.importances_mean[i]:.3f}\"\n",
    "              f\" +/- {r.importances_std[i]:.3f}\")"
   ]
  },
  {
   "cell_type": "code",
   "execution_count": 61,
   "metadata": {},
   "outputs": [
    {
     "data": {
      "text/plain": [
       "array([2, 3, 0, 4, 1, 5], dtype=int64)"
      ]
     },
     "execution_count": 61,
     "metadata": {},
     "output_type": "execute_result"
    }
   ],
   "source": [
    "r.importances_mean.argsort()"
   ]
  },
  {
   "cell_type": "code",
   "execution_count": 48,
   "metadata": {
    "scrolled": true
   },
   "outputs": [
    {
     "name": "stdout",
     "output_type": "stream",
     "text": [
      "r2\n",
      "    condition                0.003 +/- 0.000\n",
      "    drive                    0.000 +/- 0.000\n",
      "neg_mean_absolute_percentage_error\n",
      "    type                     2112637422302344448.000 +/- 464618335727873856.000\n",
      "    year                     899353786953182848.000 +/- 66900871571669264.000\n",
      "    drive                    68169220132921960.000 +/- 4516511109953212.000\n",
      "neg_mean_squared_error\n",
      "    condition                767908024.417 +/- 122003605.474\n",
      "    drive                    145060369.953 +/- 8389786.434\n"
     ]
    }
   ],
   "source": [
    "#Now, let us run the premutation feature importance for all 3 score types: \n",
    "scoring = ['r2', 'neg_mean_absolute_percentage_error', 'neg_mean_squared_error']\n",
    "r_multi = permutation_importance(pipe, X_test, y_test, n_repeats=30, random_state=0, scoring=scoring)\n",
    "\n",
    "for metric in r_multi:\n",
    "    print(f\"{metric}\")\n",
    "    r = r_multi[metric]\n",
    "    for i in r.importances_mean.argsort()[::-1]:\n",
    "        if r.importances_mean[i] - 2 * r.importances_std[i] > 0:\n",
    "            print(f\"    {X_test.columns[i]:<25}\"\n",
    "                  f\"{r.importances_mean[i]:.3f}\" \n",
    "                  f\" +/- {r.importances_std[i]:.3f}\")"
   ]
  },
  {
   "cell_type": "code",
   "execution_count": null,
   "metadata": {},
   "outputs": [],
   "source": [
    "## From the above, we can infer that condition of a vehicle followed by the drive type seems to have the most positive bearing on the sale price "
   ]
  },
  {
   "cell_type": "code",
   "execution_count": null,
   "metadata": {},
   "outputs": [],
   "source": []
  },
  {
   "cell_type": "code",
   "execution_count": null,
   "metadata": {},
   "outputs": [],
   "source": []
  },
  {
   "cell_type": "code",
   "execution_count": 50,
   "metadata": {
    "scrolled": true
   },
   "outputs": [],
   "source": [
    "### Now, let us try some Ridge cross validation with 20 different alphas\n",
    "from sklearn.linear_model import RidgeCV\n",
    "from sklearn.linear_model import Ridge\n",
    "from sklearn.compose import TransformedTargetRegressor\n",
    "from sklearn.pipeline import make_pipeline\n",
    "from sklearn import set_config"
   ]
  },
  {
   "cell_type": "code",
   "execution_count": 51,
   "metadata": {},
   "outputs": [
    {
     "data": {
      "text/plain": [
       "array([1.e-10, 1.e-09, 1.e-08, 1.e-07, 1.e-06, 1.e-05, 1.e-04, 1.e-03,\n",
       "       1.e-02, 1.e-01, 1.e+00, 1.e+01, 1.e+02, 1.e+03, 1.e+04, 1.e+05,\n",
       "       1.e+06, 1.e+07, 1.e+08, 1.e+09, 1.e+10])"
      ]
     },
     "execution_count": 51,
     "metadata": {},
     "output_type": "execute_result"
    }
   ],
   "source": [
    "alphas = np.logspace(-10,10, 21)\n",
    "alphas"
   ]
  },
  {
   "cell_type": "code",
   "execution_count": 56,
   "metadata": {},
   "outputs": [],
   "source": [
    "set_config(display=\"diagram\")"
   ]
  },
  {
   "cell_type": "code",
   "execution_count": 57,
   "metadata": {
    "scrolled": true
   },
   "outputs": [
    {
     "data": {
      "text/html": [
       "<style>#sk-b8994230-af21-4e42-999e-7cdecdde27fd {color: black;background-color: white;}#sk-b8994230-af21-4e42-999e-7cdecdde27fd pre{padding: 0;}#sk-b8994230-af21-4e42-999e-7cdecdde27fd div.sk-toggleable {background-color: white;}#sk-b8994230-af21-4e42-999e-7cdecdde27fd label.sk-toggleable__label {cursor: pointer;display: block;width: 100%;margin-bottom: 0;padding: 0.3em;box-sizing: border-box;text-align: center;}#sk-b8994230-af21-4e42-999e-7cdecdde27fd label.sk-toggleable__label-arrow:before {content: \"▸\";float: left;margin-right: 0.25em;color: #696969;}#sk-b8994230-af21-4e42-999e-7cdecdde27fd label.sk-toggleable__label-arrow:hover:before {color: black;}#sk-b8994230-af21-4e42-999e-7cdecdde27fd div.sk-estimator:hover label.sk-toggleable__label-arrow:before {color: black;}#sk-b8994230-af21-4e42-999e-7cdecdde27fd div.sk-toggleable__content {max-height: 0;max-width: 0;overflow: hidden;text-align: left;background-color: #f0f8ff;}#sk-b8994230-af21-4e42-999e-7cdecdde27fd div.sk-toggleable__content pre {margin: 0.2em;color: black;border-radius: 0.25em;background-color: #f0f8ff;}#sk-b8994230-af21-4e42-999e-7cdecdde27fd input.sk-toggleable__control:checked~div.sk-toggleable__content {max-height: 200px;max-width: 100%;overflow: auto;}#sk-b8994230-af21-4e42-999e-7cdecdde27fd input.sk-toggleable__control:checked~label.sk-toggleable__label-arrow:before {content: \"▾\";}#sk-b8994230-af21-4e42-999e-7cdecdde27fd div.sk-estimator input.sk-toggleable__control:checked~label.sk-toggleable__label {background-color: #d4ebff;}#sk-b8994230-af21-4e42-999e-7cdecdde27fd div.sk-label input.sk-toggleable__control:checked~label.sk-toggleable__label {background-color: #d4ebff;}#sk-b8994230-af21-4e42-999e-7cdecdde27fd input.sk-hidden--visually {border: 0;clip: rect(1px 1px 1px 1px);clip: rect(1px, 1px, 1px, 1px);height: 1px;margin: -1px;overflow: hidden;padding: 0;position: absolute;width: 1px;}#sk-b8994230-af21-4e42-999e-7cdecdde27fd div.sk-estimator {font-family: monospace;background-color: #f0f8ff;border: 1px dotted black;border-radius: 0.25em;box-sizing: border-box;margin-bottom: 0.5em;}#sk-b8994230-af21-4e42-999e-7cdecdde27fd div.sk-estimator:hover {background-color: #d4ebff;}#sk-b8994230-af21-4e42-999e-7cdecdde27fd div.sk-parallel-item::after {content: \"\";width: 100%;border-bottom: 1px solid gray;flex-grow: 1;}#sk-b8994230-af21-4e42-999e-7cdecdde27fd div.sk-label:hover label.sk-toggleable__label {background-color: #d4ebff;}#sk-b8994230-af21-4e42-999e-7cdecdde27fd div.sk-serial::before {content: \"\";position: absolute;border-left: 1px solid gray;box-sizing: border-box;top: 2em;bottom: 0;left: 50%;}#sk-b8994230-af21-4e42-999e-7cdecdde27fd div.sk-serial {display: flex;flex-direction: column;align-items: center;background-color: white;padding-right: 0.2em;padding-left: 0.2em;}#sk-b8994230-af21-4e42-999e-7cdecdde27fd div.sk-item {z-index: 1;}#sk-b8994230-af21-4e42-999e-7cdecdde27fd div.sk-parallel {display: flex;align-items: stretch;justify-content: center;background-color: white;}#sk-b8994230-af21-4e42-999e-7cdecdde27fd div.sk-parallel::before {content: \"\";position: absolute;border-left: 1px solid gray;box-sizing: border-box;top: 2em;bottom: 0;left: 50%;}#sk-b8994230-af21-4e42-999e-7cdecdde27fd div.sk-parallel-item {display: flex;flex-direction: column;position: relative;background-color: white;}#sk-b8994230-af21-4e42-999e-7cdecdde27fd div.sk-parallel-item:first-child::after {align-self: flex-end;width: 50%;}#sk-b8994230-af21-4e42-999e-7cdecdde27fd div.sk-parallel-item:last-child::after {align-self: flex-start;width: 50%;}#sk-b8994230-af21-4e42-999e-7cdecdde27fd div.sk-parallel-item:only-child::after {width: 0;}#sk-b8994230-af21-4e42-999e-7cdecdde27fd div.sk-dashed-wrapped {border: 1px dashed gray;margin: 0 0.4em 0.5em 0.4em;box-sizing: border-box;padding-bottom: 0.4em;background-color: white;position: relative;}#sk-b8994230-af21-4e42-999e-7cdecdde27fd div.sk-label label {font-family: monospace;font-weight: bold;background-color: white;display: inline-block;line-height: 1.2em;}#sk-b8994230-af21-4e42-999e-7cdecdde27fd div.sk-label-container {position: relative;z-index: 2;text-align: center;}#sk-b8994230-af21-4e42-999e-7cdecdde27fd div.sk-container {/* jupyter's `normalize.less` sets `[hidden] { display: none; }` but bootstrap.min.css set `[hidden] { display: none !important; }` so we also need the `!important` here to be able to override the default hidden behavior on the sphinx rendered scikit-learn.org. See: https://github.com/scikit-learn/scikit-learn/issues/21755 */display: inline-block !important;position: relative;}#sk-b8994230-af21-4e42-999e-7cdecdde27fd div.sk-text-repr-fallback {display: none;}</style><div id=\"sk-b8994230-af21-4e42-999e-7cdecdde27fd\" class=\"sk-top-container\"><div class=\"sk-text-repr-fallback\"><pre>Pipeline(steps=[(&#x27;columntransformer&#x27;,\n",
       "                 ColumnTransformer(remainder=&#x27;passthrough&#x27;,\n",
       "                                   transformers=[(&#x27;onehotencoder&#x27;,\n",
       "                                                  OneHotEncoder(drop=&#x27;if_binary&#x27;),\n",
       "                                                  [&#x27;drive&#x27;, &#x27;type&#x27;]),\n",
       "                                                 (&#x27;ordinalencoder-1&#x27;,\n",
       "                                                  OrdinalEncoder(categories=[[&#x27;clean&#x27;,\n",
       "                                                                              &#x27;rebuilt&#x27;,\n",
       "                                                                              &#x27;lien&#x27;,\n",
       "                                                                              &#x27;parts &#x27;\n",
       "                                                                              &#x27;only&#x27;,\n",
       "                                                                              &#x27;missing&#x27;,\n",
       "                                                                              &#x27;salvage&#x27;]]),\n",
       "                                                  [&#x27;title_status&#x27;]),\n",
       "                                                 (&#x27;ordinalencoder-2&#x27;,\n",
       "                                                  OrdinalEncoder(categories=[[&#x27;new&#x27;,\n",
       "                                                                              &#x27;like &#x27;\n",
       "                                                                              &#x27;new&#x27;,\n",
       "                                                                              &#x27;excellent&#x27;,\n",
       "                                                                              &#x27;good&#x27;,\n",
       "                                                                              &#x27;fair&#x27;,\n",
       "                                                                              &#x27;salvage&#x27;]]),\n",
       "                                                  [&#x27;condition&#x27;])])),\n",
       "                (&#x27;transformedtargetregressor&#x27;,\n",
       "                 TransformedTargetRegressor(regressor=RidgeCV(alphas=array([1.e-10, 1.e-09, 1.e-08, 1.e-07, 1.e-06, 1.e-05, 1.e-04, 1.e-03,\n",
       "       1.e-02, 1.e-01, 1.e+00, 1.e+01, 1.e+02, 1.e+03, 1.e+04, 1.e+05,\n",
       "       1.e+06, 1.e+07, 1.e+08, 1.e+09, 1.e+10]))))])</pre><b>Please rerun this cell to show the HTML repr or trust the notebook.</b></div><div class=\"sk-container\" hidden><div class=\"sk-item sk-dashed-wrapped\"><div class=\"sk-label-container\"><div class=\"sk-label sk-toggleable\"><input class=\"sk-toggleable__control sk-hidden--visually\" id=\"935c96b4-e5c6-4d63-b781-e11dea63149f\" type=\"checkbox\" ><label for=\"935c96b4-e5c6-4d63-b781-e11dea63149f\" class=\"sk-toggleable__label sk-toggleable__label-arrow\">Pipeline</label><div class=\"sk-toggleable__content\"><pre>Pipeline(steps=[(&#x27;columntransformer&#x27;,\n",
       "                 ColumnTransformer(remainder=&#x27;passthrough&#x27;,\n",
       "                                   transformers=[(&#x27;onehotencoder&#x27;,\n",
       "                                                  OneHotEncoder(drop=&#x27;if_binary&#x27;),\n",
       "                                                  [&#x27;drive&#x27;, &#x27;type&#x27;]),\n",
       "                                                 (&#x27;ordinalencoder-1&#x27;,\n",
       "                                                  OrdinalEncoder(categories=[[&#x27;clean&#x27;,\n",
       "                                                                              &#x27;rebuilt&#x27;,\n",
       "                                                                              &#x27;lien&#x27;,\n",
       "                                                                              &#x27;parts &#x27;\n",
       "                                                                              &#x27;only&#x27;,\n",
       "                                                                              &#x27;missing&#x27;,\n",
       "                                                                              &#x27;salvage&#x27;]]),\n",
       "                                                  [&#x27;title_status&#x27;]),\n",
       "                                                 (&#x27;ordinalencoder-2&#x27;,\n",
       "                                                  OrdinalEncoder(categories=[[&#x27;new&#x27;,\n",
       "                                                                              &#x27;like &#x27;\n",
       "                                                                              &#x27;new&#x27;,\n",
       "                                                                              &#x27;excellent&#x27;,\n",
       "                                                                              &#x27;good&#x27;,\n",
       "                                                                              &#x27;fair&#x27;,\n",
       "                                                                              &#x27;salvage&#x27;]]),\n",
       "                                                  [&#x27;condition&#x27;])])),\n",
       "                (&#x27;transformedtargetregressor&#x27;,\n",
       "                 TransformedTargetRegressor(regressor=RidgeCV(alphas=array([1.e-10, 1.e-09, 1.e-08, 1.e-07, 1.e-06, 1.e-05, 1.e-04, 1.e-03,\n",
       "       1.e-02, 1.e-01, 1.e+00, 1.e+01, 1.e+02, 1.e+03, 1.e+04, 1.e+05,\n",
       "       1.e+06, 1.e+07, 1.e+08, 1.e+09, 1.e+10]))))])</pre></div></div></div><div class=\"sk-serial\"><div class=\"sk-item sk-dashed-wrapped\"><div class=\"sk-label-container\"><div class=\"sk-label sk-toggleable\"><input class=\"sk-toggleable__control sk-hidden--visually\" id=\"fa880b10-ac49-4bc1-bb80-a7c4511e518f\" type=\"checkbox\" ><label for=\"fa880b10-ac49-4bc1-bb80-a7c4511e518f\" class=\"sk-toggleable__label sk-toggleable__label-arrow\">columntransformer: ColumnTransformer</label><div class=\"sk-toggleable__content\"><pre>ColumnTransformer(remainder=&#x27;passthrough&#x27;,\n",
       "                  transformers=[(&#x27;onehotencoder&#x27;,\n",
       "                                 OneHotEncoder(drop=&#x27;if_binary&#x27;),\n",
       "                                 [&#x27;drive&#x27;, &#x27;type&#x27;]),\n",
       "                                (&#x27;ordinalencoder-1&#x27;,\n",
       "                                 OrdinalEncoder(categories=[[&#x27;clean&#x27;, &#x27;rebuilt&#x27;,\n",
       "                                                             &#x27;lien&#x27;,\n",
       "                                                             &#x27;parts only&#x27;,\n",
       "                                                             &#x27;missing&#x27;,\n",
       "                                                             &#x27;salvage&#x27;]]),\n",
       "                                 [&#x27;title_status&#x27;]),\n",
       "                                (&#x27;ordinalencoder-2&#x27;,\n",
       "                                 OrdinalEncoder(categories=[[&#x27;new&#x27;, &#x27;like new&#x27;,\n",
       "                                                             &#x27;excellent&#x27;,\n",
       "                                                             &#x27;good&#x27;, &#x27;fair&#x27;,\n",
       "                                                             &#x27;salvage&#x27;]]),\n",
       "                                 [&#x27;condition&#x27;])])</pre></div></div></div><div class=\"sk-parallel\"><div class=\"sk-parallel-item\"><div class=\"sk-item\"><div class=\"sk-label-container\"><div class=\"sk-label sk-toggleable\"><input class=\"sk-toggleable__control sk-hidden--visually\" id=\"a61cc978-27c3-461d-b873-1cfee1e0fc11\" type=\"checkbox\" ><label for=\"a61cc978-27c3-461d-b873-1cfee1e0fc11\" class=\"sk-toggleable__label sk-toggleable__label-arrow\">onehotencoder</label><div class=\"sk-toggleable__content\"><pre>[&#x27;drive&#x27;, &#x27;type&#x27;]</pre></div></div></div><div class=\"sk-serial\"><div class=\"sk-item\"><div class=\"sk-estimator sk-toggleable\"><input class=\"sk-toggleable__control sk-hidden--visually\" id=\"5def5470-6782-4c3b-a7b9-db5709af01d2\" type=\"checkbox\" ><label for=\"5def5470-6782-4c3b-a7b9-db5709af01d2\" class=\"sk-toggleable__label sk-toggleable__label-arrow\">OneHotEncoder</label><div class=\"sk-toggleable__content\"><pre>OneHotEncoder(drop=&#x27;if_binary&#x27;)</pre></div></div></div></div></div></div><div class=\"sk-parallel-item\"><div class=\"sk-item\"><div class=\"sk-label-container\"><div class=\"sk-label sk-toggleable\"><input class=\"sk-toggleable__control sk-hidden--visually\" id=\"f731ca91-5e9f-41d5-ad13-3d982791984a\" type=\"checkbox\" ><label for=\"f731ca91-5e9f-41d5-ad13-3d982791984a\" class=\"sk-toggleable__label sk-toggleable__label-arrow\">ordinalencoder-1</label><div class=\"sk-toggleable__content\"><pre>[&#x27;title_status&#x27;]</pre></div></div></div><div class=\"sk-serial\"><div class=\"sk-item\"><div class=\"sk-estimator sk-toggleable\"><input class=\"sk-toggleable__control sk-hidden--visually\" id=\"e817ca36-8f06-476b-9483-6bd63772c3fc\" type=\"checkbox\" ><label for=\"e817ca36-8f06-476b-9483-6bd63772c3fc\" class=\"sk-toggleable__label sk-toggleable__label-arrow\">OrdinalEncoder</label><div class=\"sk-toggleable__content\"><pre>OrdinalEncoder(categories=[[&#x27;clean&#x27;, &#x27;rebuilt&#x27;, &#x27;lien&#x27;, &#x27;parts only&#x27;, &#x27;missing&#x27;,\n",
       "                            &#x27;salvage&#x27;]])</pre></div></div></div></div></div></div><div class=\"sk-parallel-item\"><div class=\"sk-item\"><div class=\"sk-label-container\"><div class=\"sk-label sk-toggleable\"><input class=\"sk-toggleable__control sk-hidden--visually\" id=\"a54c6d73-1b9c-477d-b872-a2fe3584fe97\" type=\"checkbox\" ><label for=\"a54c6d73-1b9c-477d-b872-a2fe3584fe97\" class=\"sk-toggleable__label sk-toggleable__label-arrow\">ordinalencoder-2</label><div class=\"sk-toggleable__content\"><pre>[&#x27;condition&#x27;]</pre></div></div></div><div class=\"sk-serial\"><div class=\"sk-item\"><div class=\"sk-estimator sk-toggleable\"><input class=\"sk-toggleable__control sk-hidden--visually\" id=\"30d897c7-738f-4a56-b34c-f2f16fd96556\" type=\"checkbox\" ><label for=\"30d897c7-738f-4a56-b34c-f2f16fd96556\" class=\"sk-toggleable__label sk-toggleable__label-arrow\">OrdinalEncoder</label><div class=\"sk-toggleable__content\"><pre>OrdinalEncoder(categories=[[&#x27;new&#x27;, &#x27;like new&#x27;, &#x27;excellent&#x27;, &#x27;good&#x27;, &#x27;fair&#x27;,\n",
       "                            &#x27;salvage&#x27;]])</pre></div></div></div></div></div></div><div class=\"sk-parallel-item\"><div class=\"sk-item\"><div class=\"sk-label-container\"><div class=\"sk-label sk-toggleable\"><input class=\"sk-toggleable__control sk-hidden--visually\" id=\"e0a045bb-4f20-4186-9cc9-e3b65890befc\" type=\"checkbox\" ><label for=\"e0a045bb-4f20-4186-9cc9-e3b65890befc\" class=\"sk-toggleable__label sk-toggleable__label-arrow\">remainder</label><div class=\"sk-toggleable__content\"><pre>[&#x27;year&#x27;, &#x27;odometer&#x27;]</pre></div></div></div><div class=\"sk-serial\"><div class=\"sk-item\"><div class=\"sk-estimator sk-toggleable\"><input class=\"sk-toggleable__control sk-hidden--visually\" id=\"006a0bd8-5253-42c6-8472-750273902c92\" type=\"checkbox\" ><label for=\"006a0bd8-5253-42c6-8472-750273902c92\" class=\"sk-toggleable__label sk-toggleable__label-arrow\">passthrough</label><div class=\"sk-toggleable__content\"><pre>passthrough</pre></div></div></div></div></div></div></div></div><div class=\"sk-item sk-dashed-wrapped\"><div class=\"sk-label-container\"><div class=\"sk-label sk-toggleable\"><input class=\"sk-toggleable__control sk-hidden--visually\" id=\"fb3e0986-d401-4dde-aa43-d1f040bb30cd\" type=\"checkbox\" ><label for=\"fb3e0986-d401-4dde-aa43-d1f040bb30cd\" class=\"sk-toggleable__label sk-toggleable__label-arrow\">transformedtargetregressor: TransformedTargetRegressor</label><div class=\"sk-toggleable__content\"><pre>TransformedTargetRegressor(regressor=RidgeCV(alphas=array([1.e-10, 1.e-09, 1.e-08, 1.e-07, 1.e-06, 1.e-05, 1.e-04, 1.e-03,\n",
       "       1.e-02, 1.e-01, 1.e+00, 1.e+01, 1.e+02, 1.e+03, 1.e+04, 1.e+05,\n",
       "       1.e+06, 1.e+07, 1.e+08, 1.e+09, 1.e+10])))</pre></div></div></div><div class=\"sk-parallel\"><div class=\"sk-parallel-item\"><div class=\"sk-item\"><div class=\"sk-serial\"><div class=\"sk-item\"><div class=\"sk-estimator sk-toggleable\"><input class=\"sk-toggleable__control sk-hidden--visually\" id=\"23d87008-e6da-41bf-b662-34a9c2d07fdc\" type=\"checkbox\" ><label for=\"23d87008-e6da-41bf-b662-34a9c2d07fdc\" class=\"sk-toggleable__label sk-toggleable__label-arrow\">RidgeCV</label><div class=\"sk-toggleable__content\"><pre>RidgeCV(alphas=array([1.e-10, 1.e-09, 1.e-08, 1.e-07, 1.e-06, 1.e-05, 1.e-04, 1.e-03,\n",
       "       1.e-02, 1.e-01, 1.e+00, 1.e+01, 1.e+02, 1.e+03, 1.e+04, 1.e+05,\n",
       "       1.e+06, 1.e+07, 1.e+08, 1.e+09, 1.e+10]))</pre></div></div></div></div></div></div></div></div></div></div></div></div>"
      ],
      "text/plain": [
       "Pipeline(steps=[('columntransformer',\n",
       "                 ColumnTransformer(remainder='passthrough',\n",
       "                                   transformers=[('onehotencoder',\n",
       "                                                  OneHotEncoder(drop='if_binary'),\n",
       "                                                  ['drive', 'type']),\n",
       "                                                 ('ordinalencoder-1',\n",
       "                                                  OrdinalEncoder(categories=[['clean',\n",
       "                                                                              'rebuilt',\n",
       "                                                                              'lien',\n",
       "                                                                              'parts '\n",
       "                                                                              'only',\n",
       "                                                                              'missing',\n",
       "                                                                              'salvage']]),\n",
       "                                                  ['title_status']),\n",
       "                                                 ('ordinalencoder-2',\n",
       "                                                  OrdinalEncoder(categories=[['new',\n",
       "                                                                              'like '\n",
       "                                                                              'new',\n",
       "                                                                              'excellent',\n",
       "                                                                              'good',\n",
       "                                                                              'fair',\n",
       "                                                                              'salvage']]),\n",
       "                                                  ['condition'])])),\n",
       "                ('transformedtargetregressor',\n",
       "                 TransformedTargetRegressor(regressor=RidgeCV(alphas=array([1.e-10, 1.e-09, 1.e-08, 1.e-07, 1.e-06, 1.e-05, 1.e-04, 1.e-03,\n",
       "       1.e-02, 1.e-01, 1.e+00, 1.e+01, 1.e+02, 1.e+03, 1.e+04, 1.e+05,\n",
       "       1.e+06, 1.e+07, 1.e+08, 1.e+09, 1.e+10]))))])"
      ]
     },
     "execution_count": 57,
     "metadata": {},
     "output_type": "execute_result"
    }
   ],
   "source": [
    "model_ridge_with_regularization = make_pipeline(\n",
    "    transformer,\n",
    "    TransformedTargetRegressor(\n",
    "        regressor=RidgeCV(alphas=alphas)\n",
    "    )\n",
    ")\n",
    "model_ridge_with_regularization.fit(X_train, y_train)"
   ]
  },
  {
   "cell_type": "code",
   "execution_count": null,
   "metadata": {},
   "outputs": [],
   "source": [
    "#Get the feature names out\n",
    "feature_names = get_feature_names(transformer)\n",
    "mapping = { \n",
    "    'onehotencoder__x0':'drive', \n",
    "    'onehotencoder__x1':'type', \n",
    "    'ordinalencoder-1__':'', \n",
    "    'ordinalencoder-2__':'', \n",
    "    'x0':'year', \n",
    "    'x2':'odometer'\n",
    "}\n",
    "\n",
    "for i in range(0,len(feature_names)): \n",
    "    for k, v in mapping.items():\n",
    "        feature_names[i] = feature_names[i].replace(k, v)\n",
    "        "
   ]
  },
  {
   "cell_type": "code",
   "execution_count": 87,
   "metadata": {
    "scrolled": false
   },
   "outputs": [
    {
     "data": {
      "text/html": [
       "<div>\n",
       "<style scoped>\n",
       "    .dataframe tbody tr th:only-of-type {\n",
       "        vertical-align: middle;\n",
       "    }\n",
       "\n",
       "    .dataframe tbody tr th {\n",
       "        vertical-align: top;\n",
       "    }\n",
       "\n",
       "    .dataframe thead th {\n",
       "        text-align: right;\n",
       "    }\n",
       "</style>\n",
       "<table border=\"1\" class=\"dataframe\">\n",
       "  <thead>\n",
       "    <tr style=\"text-align: right;\">\n",
       "      <th></th>\n",
       "      <th>Coefficients</th>\n",
       "    </tr>\n",
       "  </thead>\n",
       "  <tbody>\n",
       "    <tr>\n",
       "      <th>drive_4wd</th>\n",
       "      <td>13319.063832</td>\n",
       "    </tr>\n",
       "    <tr>\n",
       "      <th>drive_fwd</th>\n",
       "      <td>-11123.473028</td>\n",
       "    </tr>\n",
       "    <tr>\n",
       "      <th>drive_rwd</th>\n",
       "      <td>-2195.590804</td>\n",
       "    </tr>\n",
       "    <tr>\n",
       "      <th>type_SUV</th>\n",
       "      <td>-11758.213864</td>\n",
       "    </tr>\n",
       "    <tr>\n",
       "      <th>type_bus</th>\n",
       "      <td>-114.941446</td>\n",
       "    </tr>\n",
       "    <tr>\n",
       "      <th>type_convertible</th>\n",
       "      <td>-1921.222189</td>\n",
       "    </tr>\n",
       "    <tr>\n",
       "      <th>type_coupe</th>\n",
       "      <td>-3506.323502</td>\n",
       "    </tr>\n",
       "    <tr>\n",
       "      <th>type_hatchback</th>\n",
       "      <td>-2253.561212</td>\n",
       "    </tr>\n",
       "    <tr>\n",
       "      <th>type_mini-van</th>\n",
       "      <td>-1148.304632</td>\n",
       "    </tr>\n",
       "    <tr>\n",
       "      <th>type_offroad</th>\n",
       "      <td>-334.928307</td>\n",
       "    </tr>\n",
       "    <tr>\n",
       "      <th>type_other</th>\n",
       "      <td>-1286.517376</td>\n",
       "    </tr>\n",
       "    <tr>\n",
       "      <th>type_pickup</th>\n",
       "      <td>39927.543441</td>\n",
       "    </tr>\n",
       "    <tr>\n",
       "      <th>type_sedan</th>\n",
       "      <td>-9740.565151</td>\n",
       "    </tr>\n",
       "    <tr>\n",
       "      <th>type_truck</th>\n",
       "      <td>-4913.523065</td>\n",
       "    </tr>\n",
       "    <tr>\n",
       "      <th>type_van</th>\n",
       "      <td>-1162.508052</td>\n",
       "    </tr>\n",
       "    <tr>\n",
       "      <th>type_wagon</th>\n",
       "      <td>-1786.934645</td>\n",
       "    </tr>\n",
       "    <tr>\n",
       "      <th>title_status</th>\n",
       "      <td>-4195.021269</td>\n",
       "    </tr>\n",
       "    <tr>\n",
       "      <th>condition</th>\n",
       "      <td>-7301.740680</td>\n",
       "    </tr>\n",
       "    <tr>\n",
       "      <th>year</th>\n",
       "      <td>-1739.546643</td>\n",
       "    </tr>\n",
       "    <tr>\n",
       "      <th>odometer</th>\n",
       "      <td>0.051506</td>\n",
       "    </tr>\n",
       "  </tbody>\n",
       "</table>\n",
       "</div>"
      ],
      "text/plain": [
       "                  Coefficients\n",
       "drive_4wd         13319.063832\n",
       "drive_fwd        -11123.473028\n",
       "drive_rwd         -2195.590804\n",
       "type_SUV         -11758.213864\n",
       "type_bus           -114.941446\n",
       "type_convertible  -1921.222189\n",
       "type_coupe        -3506.323502\n",
       "type_hatchback    -2253.561212\n",
       "type_mini-van     -1148.304632\n",
       "type_offroad       -334.928307\n",
       "type_other        -1286.517376\n",
       "type_pickup       39927.543441\n",
       "type_sedan        -9740.565151\n",
       "type_truck        -4913.523065\n",
       "type_van          -1162.508052\n",
       "type_wagon        -1786.934645\n",
       "title_status      -4195.021269\n",
       "condition         -7301.740680\n",
       "year              -1739.546643\n",
       "odometer              0.051506"
      ]
     },
     "execution_count": 87,
     "metadata": {},
     "output_type": "execute_result"
    }
   ],
   "source": [
    "\n",
    "coefs = pd.DataFrame(\n",
    "    model_ridge_with_regularization[-1].regressor_.coef_,\n",
    "    columns=[\"Coefficients\"],\n",
    "    index=feature_names\n",
    ")\n",
    "coefs"
   ]
  },
  {
   "cell_type": "code",
   "execution_count": 88,
   "metadata": {
    "scrolled": true
   },
   "outputs": [
    {
     "data": {
      "image/png": "[encoded data removed]",
      "text/plain": [
       "<Figure size 900x700 with 1 Axes>"
      ]
     },
     "metadata": {},
     "output_type": "display_data"
    }
   ],
   "source": [
    "coefs.plot.barh(figsize=(9, 7))\n",
    "plt.title(\"Coefficients: Ridge CV model\")\n",
    "plt.axvline(x=0, color=\".5\")\n",
    "plt.xlabel(\"Raw coefficient values\")\n",
    "plt.subplots_adjust(left=0.3)\n",
    "plt.show()"
   ]
  },
  {
   "cell_type": "code",
   "execution_count": null,
   "metadata": {},
   "outputs": [],
   "source": [
    "### From the above graph, we notice the following: \n",
    "# a. Odometer reading has a higher bearing on price than year\n",
    "# b. The worse the condition, the lesser the price of the vehicle (Condition used ordinalencoder with descending values\n",
    "# c. pickup trucks seem to have the best resale value                                                           "
   ]
  },
  {
   "cell_type": "code",
   "execution_count": 90,
   "metadata": {},
   "outputs": [
    {
     "data": {
      "image/png": "[encoded data removed]",
      "text/plain": [
       "<Figure size 900x700 with 1 Axes>"
      ]
     },
     "metadata": {},
     "output_type": "display_data"
    }
   ],
   "source": [
    "## Lets look at the coefficient std. dev\n",
    "X_train_preprocessed = pd.DataFrame(\n",
    "    model_ridge_with_regularization[:-1].transform(X_train), columns=feature_names\n",
    ")\n",
    "\n",
    "X_train_preprocessed.std(axis=0).plot.barh(figsize=(9, 7))\n",
    "plt.title(\"Feature ranges\")\n",
    "plt.xlabel(\"Std. dev. of feature values\")\n",
    "plt.subplots_adjust(left=0.3)\n",
    "plt.show()"
   ]
  },
  {
   "cell_type": "code",
   "execution_count": null,
   "metadata": {},
   "outputs": [],
   "source": [
    "### We can see that our model has not fit for the odometer feature efficiently"
   ]
  },
  {
   "cell_type": "code",
   "execution_count": null,
   "metadata": {},
   "outputs": [],
   "source": []
  },
  {
   "cell_type": "code",
   "execution_count": null,
   "metadata": {},
   "outputs": [],
   "source": [
    "### Let us now try the same with Lasso"
   ]
  },
  {
   "cell_type": "code",
   "execution_count": 91,
   "metadata": {
    "scrolled": true
   },
   "outputs": [
    {
     "name": "stderr",
     "output_type": "stream",
     "text": [
      "C:\\ProgramData\\Anaconda3\\lib\\site-packages\\sklearn\\linear_model\\_coordinate_descent.py:633: ConvergenceWarning: Objective did not converge. You might want to increase the number of iterations. Duality gap: 6.41610580366836e+17, tolerance: 128427083950907.47\n",
      "  model = cd_fast.enet_coordinate_descent_gram(\n",
      "C:\\ProgramData\\Anaconda3\\lib\\site-packages\\sklearn\\linear_model\\_coordinate_descent.py:633: ConvergenceWarning: Objective did not converge. You might want to increase the number of iterations. Duality gap: 7.609276198670544e+18, tolerance: 1523017726264510.2\n",
      "  model = cd_fast.enet_coordinate_descent_gram(\n",
      "C:\\ProgramData\\Anaconda3\\lib\\site-packages\\sklearn\\linear_model\\_coordinate_descent.py:633: ConvergenceWarning: Objective did not converge. You might want to increase the number of iterations. Duality gap: 7.601514086776596e+18, tolerance: 1524852070836580.8\n",
      "  model = cd_fast.enet_coordinate_descent_gram(\n",
      "C:\\ProgramData\\Anaconda3\\lib\\site-packages\\sklearn\\linear_model\\_coordinate_descent.py:633: ConvergenceWarning: Objective did not converge. You might want to increase the number of iterations. Duality gap: 6.9528870446611e+18, tolerance: 1402932655025795.2\n",
      "  model = cd_fast.enet_coordinate_descent_gram(\n"
     ]
    },
    {
     "data": {
      "text/html": [
       "<style>#sk-96c080b0-8c8b-4abb-801b-a7a01540ba23 {color: black;background-color: white;}#sk-96c080b0-8c8b-4abb-801b-a7a01540ba23 pre{padding: 0;}#sk-96c080b0-8c8b-4abb-801b-a7a01540ba23 div.sk-toggleable {background-color: white;}#sk-96c080b0-8c8b-4abb-801b-a7a01540ba23 label.sk-toggleable__label {cursor: pointer;display: block;width: 100%;margin-bottom: 0;padding: 0.3em;box-sizing: border-box;text-align: center;}#sk-96c080b0-8c8b-4abb-801b-a7a01540ba23 label.sk-toggleable__label-arrow:before {content: \"▸\";float: left;margin-right: 0.25em;color: #696969;}#sk-96c080b0-8c8b-4abb-801b-a7a01540ba23 label.sk-toggleable__label-arrow:hover:before {color: black;}#sk-96c080b0-8c8b-4abb-801b-a7a01540ba23 div.sk-estimator:hover label.sk-toggleable__label-arrow:before {color: black;}#sk-96c080b0-8c8b-4abb-801b-a7a01540ba23 div.sk-toggleable__content {max-height: 0;max-width: 0;overflow: hidden;text-align: left;background-color: #f0f8ff;}#sk-96c080b0-8c8b-4abb-801b-a7a01540ba23 div.sk-toggleable__content pre {margin: 0.2em;color: black;border-radius: 0.25em;background-color: #f0f8ff;}#sk-96c080b0-8c8b-4abb-801b-a7a01540ba23 input.sk-toggleable__control:checked~div.sk-toggleable__content {max-height: 200px;max-width: 100%;overflow: auto;}#sk-96c080b0-8c8b-4abb-801b-a7a01540ba23 input.sk-toggleable__control:checked~label.sk-toggleable__label-arrow:before {content: \"▾\";}#sk-96c080b0-8c8b-4abb-801b-a7a01540ba23 div.sk-estimator input.sk-toggleable__control:checked~label.sk-toggleable__label {background-color: #d4ebff;}#sk-96c080b0-8c8b-4abb-801b-a7a01540ba23 div.sk-label input.sk-toggleable__control:checked~label.sk-toggleable__label {background-color: #d4ebff;}#sk-96c080b0-8c8b-4abb-801b-a7a01540ba23 input.sk-hidden--visually {border: 0;clip: rect(1px 1px 1px 1px);clip: rect(1px, 1px, 1px, 1px);height: 1px;margin: -1px;overflow: hidden;padding: 0;position: absolute;width: 1px;}#sk-96c080b0-8c8b-4abb-801b-a7a01540ba23 div.sk-estimator {font-family: monospace;background-color: #f0f8ff;border: 1px dotted black;border-radius: 0.25em;box-sizing: border-box;margin-bottom: 0.5em;}#sk-96c080b0-8c8b-4abb-801b-a7a01540ba23 div.sk-estimator:hover {background-color: #d4ebff;}#sk-96c080b0-8c8b-4abb-801b-a7a01540ba23 div.sk-parallel-item::after {content: \"\";width: 100%;border-bottom: 1px solid gray;flex-grow: 1;}#sk-96c080b0-8c8b-4abb-801b-a7a01540ba23 div.sk-label:hover label.sk-toggleable__label {background-color: #d4ebff;}#sk-96c080b0-8c8b-4abb-801b-a7a01540ba23 div.sk-serial::before {content: \"\";position: absolute;border-left: 1px solid gray;box-sizing: border-box;top: 2em;bottom: 0;left: 50%;}#sk-96c080b0-8c8b-4abb-801b-a7a01540ba23 div.sk-serial {display: flex;flex-direction: column;align-items: center;background-color: white;padding-right: 0.2em;padding-left: 0.2em;}#sk-96c080b0-8c8b-4abb-801b-a7a01540ba23 div.sk-item {z-index: 1;}#sk-96c080b0-8c8b-4abb-801b-a7a01540ba23 div.sk-parallel {display: flex;align-items: stretch;justify-content: center;background-color: white;}#sk-96c080b0-8c8b-4abb-801b-a7a01540ba23 div.sk-parallel::before {content: \"\";position: absolute;border-left: 1px solid gray;box-sizing: border-box;top: 2em;bottom: 0;left: 50%;}#sk-96c080b0-8c8b-4abb-801b-a7a01540ba23 div.sk-parallel-item {display: flex;flex-direction: column;position: relative;background-color: white;}#sk-96c080b0-8c8b-4abb-801b-a7a01540ba23 div.sk-parallel-item:first-child::after {align-self: flex-end;width: 50%;}#sk-96c080b0-8c8b-4abb-801b-a7a01540ba23 div.sk-parallel-item:last-child::after {align-self: flex-start;width: 50%;}#sk-96c080b0-8c8b-4abb-801b-a7a01540ba23 div.sk-parallel-item:only-child::after {width: 0;}#sk-96c080b0-8c8b-4abb-801b-a7a01540ba23 div.sk-dashed-wrapped {border: 1px dashed gray;margin: 0 0.4em 0.5em 0.4em;box-sizing: border-box;padding-bottom: 0.4em;background-color: white;position: relative;}#sk-96c080b0-8c8b-4abb-801b-a7a01540ba23 div.sk-label label {font-family: monospace;font-weight: bold;background-color: white;display: inline-block;line-height: 1.2em;}#sk-96c080b0-8c8b-4abb-801b-a7a01540ba23 div.sk-label-container {position: relative;z-index: 2;text-align: center;}#sk-96c080b0-8c8b-4abb-801b-a7a01540ba23 div.sk-container {/* jupyter's `normalize.less` sets `[hidden] { display: none; }` but bootstrap.min.css set `[hidden] { display: none !important; }` so we also need the `!important` here to be able to override the default hidden behavior on the sphinx rendered scikit-learn.org. See: https://github.com/scikit-learn/scikit-learn/issues/21755 */display: inline-block !important;position: relative;}#sk-96c080b0-8c8b-4abb-801b-a7a01540ba23 div.sk-text-repr-fallback {display: none;}</style><div id=\"sk-96c080b0-8c8b-4abb-801b-a7a01540ba23\" class=\"sk-top-container\"><div class=\"sk-text-repr-fallback\"><pre>Pipeline(steps=[(&#x27;columntransformer&#x27;,\n",
       "                 ColumnTransformer(remainder=&#x27;passthrough&#x27;,\n",
       "                                   transformers=[(&#x27;onehotencoder&#x27;,\n",
       "                                                  OneHotEncoder(drop=&#x27;if_binary&#x27;),\n",
       "                                                  [&#x27;drive&#x27;, &#x27;type&#x27;]),\n",
       "                                                 (&#x27;ordinalencoder-1&#x27;,\n",
       "                                                  OrdinalEncoder(categories=[[&#x27;clean&#x27;,\n",
       "                                                                              &#x27;rebuilt&#x27;,\n",
       "                                                                              &#x27;lien&#x27;,\n",
       "                                                                              &#x27;parts &#x27;\n",
       "                                                                              &#x27;only&#x27;,\n",
       "                                                                              &#x27;missing&#x27;,\n",
       "                                                                              &#x27;salvage&#x27;]]),\n",
       "                                                  [&#x27;title_status&#x27;]),\n",
       "                                                 (&#x27;ordinalencoder-2&#x27;,\n",
       "                                                  OrdinalEncoder(categories=[[&#x27;new&#x27;,\n",
       "                                                                              &#x27;like &#x27;\n",
       "                                                                              &#x27;new&#x27;,\n",
       "                                                                              &#x27;excellent&#x27;,\n",
       "                                                                              &#x27;good&#x27;,\n",
       "                                                                              &#x27;fair&#x27;,\n",
       "                                                                              &#x27;salvage&#x27;]]),\n",
       "                                                  [&#x27;condition&#x27;])])),\n",
       "                (&#x27;transformedtargetregressor&#x27;,\n",
       "                 TransformedTargetRegressor(regressor=LassoCV(alphas=array([1.e-10, 1.e-09, 1.e-08, 1.e-07, 1.e-06, 1.e-05, 1.e-04, 1.e-03,\n",
       "       1.e-02, 1.e-01, 1.e+00, 1.e+01, 1.e+02, 1.e+03, 1.e+04, 1.e+05,\n",
       "       1.e+06, 1.e+07, 1.e+08, 1.e+09, 1.e+10]),\n",
       "                                                              max_iter=100000)))])</pre><b>Please rerun this cell to show the HTML repr or trust the notebook.</b></div><div class=\"sk-container\" hidden><div class=\"sk-item sk-dashed-wrapped\"><div class=\"sk-label-container\"><div class=\"sk-label sk-toggleable\"><input class=\"sk-toggleable__control sk-hidden--visually\" id=\"55903ced-4361-48bf-9a5f-7d3e2ffd94ef\" type=\"checkbox\" ><label for=\"55903ced-4361-48bf-9a5f-7d3e2ffd94ef\" class=\"sk-toggleable__label sk-toggleable__label-arrow\">Pipeline</label><div class=\"sk-toggleable__content\"><pre>Pipeline(steps=[(&#x27;columntransformer&#x27;,\n",
       "                 ColumnTransformer(remainder=&#x27;passthrough&#x27;,\n",
       "                                   transformers=[(&#x27;onehotencoder&#x27;,\n",
       "                                                  OneHotEncoder(drop=&#x27;if_binary&#x27;),\n",
       "                                                  [&#x27;drive&#x27;, &#x27;type&#x27;]),\n",
       "                                                 (&#x27;ordinalencoder-1&#x27;,\n",
       "                                                  OrdinalEncoder(categories=[[&#x27;clean&#x27;,\n",
       "                                                                              &#x27;rebuilt&#x27;,\n",
       "                                                                              &#x27;lien&#x27;,\n",
       "                                                                              &#x27;parts &#x27;\n",
       "                                                                              &#x27;only&#x27;,\n",
       "                                                                              &#x27;missing&#x27;,\n",
       "                                                                              &#x27;salvage&#x27;]]),\n",
       "                                                  [&#x27;title_status&#x27;]),\n",
       "                                                 (&#x27;ordinalencoder-2&#x27;,\n",
       "                                                  OrdinalEncoder(categories=[[&#x27;new&#x27;,\n",
       "                                                                              &#x27;like &#x27;\n",
       "                                                                              &#x27;new&#x27;,\n",
       "                                                                              &#x27;excellent&#x27;,\n",
       "                                                                              &#x27;good&#x27;,\n",
       "                                                                              &#x27;fair&#x27;,\n",
       "                                                                              &#x27;salvage&#x27;]]),\n",
       "                                                  [&#x27;condition&#x27;])])),\n",
       "                (&#x27;transformedtargetregressor&#x27;,\n",
       "                 TransformedTargetRegressor(regressor=LassoCV(alphas=array([1.e-10, 1.e-09, 1.e-08, 1.e-07, 1.e-06, 1.e-05, 1.e-04, 1.e-03,\n",
       "       1.e-02, 1.e-01, 1.e+00, 1.e+01, 1.e+02, 1.e+03, 1.e+04, 1.e+05,\n",
       "       1.e+06, 1.e+07, 1.e+08, 1.e+09, 1.e+10]),\n",
       "                                                              max_iter=100000)))])</pre></div></div></div><div class=\"sk-serial\"><div class=\"sk-item sk-dashed-wrapped\"><div class=\"sk-label-container\"><div class=\"sk-label sk-toggleable\"><input class=\"sk-toggleable__control sk-hidden--visually\" id=\"04cf4a9c-0ffa-49db-9fc8-c06fe474830e\" type=\"checkbox\" ><label for=\"04cf4a9c-0ffa-49db-9fc8-c06fe474830e\" class=\"sk-toggleable__label sk-toggleable__label-arrow\">columntransformer: ColumnTransformer</label><div class=\"sk-toggleable__content\"><pre>ColumnTransformer(remainder=&#x27;passthrough&#x27;,\n",
       "                  transformers=[(&#x27;onehotencoder&#x27;,\n",
       "                                 OneHotEncoder(drop=&#x27;if_binary&#x27;),\n",
       "                                 [&#x27;drive&#x27;, &#x27;type&#x27;]),\n",
       "                                (&#x27;ordinalencoder-1&#x27;,\n",
       "                                 OrdinalEncoder(categories=[[&#x27;clean&#x27;, &#x27;rebuilt&#x27;,\n",
       "                                                             &#x27;lien&#x27;,\n",
       "                                                             &#x27;parts only&#x27;,\n",
       "                                                             &#x27;missing&#x27;,\n",
       "                                                             &#x27;salvage&#x27;]]),\n",
       "                                 [&#x27;title_status&#x27;]),\n",
       "                                (&#x27;ordinalencoder-2&#x27;,\n",
       "                                 OrdinalEncoder(categories=[[&#x27;new&#x27;, &#x27;like new&#x27;,\n",
       "                                                             &#x27;excellent&#x27;,\n",
       "                                                             &#x27;good&#x27;, &#x27;fair&#x27;,\n",
       "                                                             &#x27;salvage&#x27;]]),\n",
       "                                 [&#x27;condition&#x27;])])</pre></div></div></div><div class=\"sk-parallel\"><div class=\"sk-parallel-item\"><div class=\"sk-item\"><div class=\"sk-label-container\"><div class=\"sk-label sk-toggleable\"><input class=\"sk-toggleable__control sk-hidden--visually\" id=\"18d158b6-f507-4bd5-bb9e-6cd50c2a6746\" type=\"checkbox\" ><label for=\"18d158b6-f507-4bd5-bb9e-6cd50c2a6746\" class=\"sk-toggleable__label sk-toggleable__label-arrow\">onehotencoder</label><div class=\"sk-toggleable__content\"><pre>[&#x27;drive&#x27;, &#x27;type&#x27;]</pre></div></div></div><div class=\"sk-serial\"><div class=\"sk-item\"><div class=\"sk-estimator sk-toggleable\"><input class=\"sk-toggleable__control sk-hidden--visually\" id=\"5d3f6579-7aaa-4888-99f0-4b07e400b648\" type=\"checkbox\" ><label for=\"5d3f6579-7aaa-4888-99f0-4b07e400b648\" class=\"sk-toggleable__label sk-toggleable__label-arrow\">OneHotEncoder</label><div class=\"sk-toggleable__content\"><pre>OneHotEncoder(drop=&#x27;if_binary&#x27;)</pre></div></div></div></div></div></div><div class=\"sk-parallel-item\"><div class=\"sk-item\"><div class=\"sk-label-container\"><div class=\"sk-label sk-toggleable\"><input class=\"sk-toggleable__control sk-hidden--visually\" id=\"812d2c13-fc02-4129-bb30-dced2afd39d1\" type=\"checkbox\" ><label for=\"812d2c13-fc02-4129-bb30-dced2afd39d1\" class=\"sk-toggleable__label sk-toggleable__label-arrow\">ordinalencoder-1</label><div class=\"sk-toggleable__content\"><pre>[&#x27;title_status&#x27;]</pre></div></div></div><div class=\"sk-serial\"><div class=\"sk-item\"><div class=\"sk-estimator sk-toggleable\"><input class=\"sk-toggleable__control sk-hidden--visually\" id=\"4cd9897f-8d77-4313-b023-2a564e6d73f3\" type=\"checkbox\" ><label for=\"4cd9897f-8d77-4313-b023-2a564e6d73f3\" class=\"sk-toggleable__label sk-toggleable__label-arrow\">OrdinalEncoder</label><div class=\"sk-toggleable__content\"><pre>OrdinalEncoder(categories=[[&#x27;clean&#x27;, &#x27;rebuilt&#x27;, &#x27;lien&#x27;, &#x27;parts only&#x27;, &#x27;missing&#x27;,\n",
       "                            &#x27;salvage&#x27;]])</pre></div></div></div></div></div></div><div class=\"sk-parallel-item\"><div class=\"sk-item\"><div class=\"sk-label-container\"><div class=\"sk-label sk-toggleable\"><input class=\"sk-toggleable__control sk-hidden--visually\" id=\"0ec6bbfd-d61b-4064-8a7d-6becb2a1ba71\" type=\"checkbox\" ><label for=\"0ec6bbfd-d61b-4064-8a7d-6becb2a1ba71\" class=\"sk-toggleable__label sk-toggleable__label-arrow\">ordinalencoder-2</label><div class=\"sk-toggleable__content\"><pre>[&#x27;condition&#x27;]</pre></div></div></div><div class=\"sk-serial\"><div class=\"sk-item\"><div class=\"sk-estimator sk-toggleable\"><input class=\"sk-toggleable__control sk-hidden--visually\" id=\"6e1b4bbf-6334-430e-9af1-a676044c8ccb\" type=\"checkbox\" ><label for=\"6e1b4bbf-6334-430e-9af1-a676044c8ccb\" class=\"sk-toggleable__label sk-toggleable__label-arrow\">OrdinalEncoder</label><div class=\"sk-toggleable__content\"><pre>OrdinalEncoder(categories=[[&#x27;new&#x27;, &#x27;like new&#x27;, &#x27;excellent&#x27;, &#x27;good&#x27;, &#x27;fair&#x27;,\n",
       "                            &#x27;salvage&#x27;]])</pre></div></div></div></div></div></div><div class=\"sk-parallel-item\"><div class=\"sk-item\"><div class=\"sk-label-container\"><div class=\"sk-label sk-toggleable\"><input class=\"sk-toggleable__control sk-hidden--visually\" id=\"f71a306c-b5c3-4c1f-9c8a-c71318bb70db\" type=\"checkbox\" ><label for=\"f71a306c-b5c3-4c1f-9c8a-c71318bb70db\" class=\"sk-toggleable__label sk-toggleable__label-arrow\">remainder</label><div class=\"sk-toggleable__content\"><pre>[&#x27;year&#x27;, &#x27;odometer&#x27;]</pre></div></div></div><div class=\"sk-serial\"><div class=\"sk-item\"><div class=\"sk-estimator sk-toggleable\"><input class=\"sk-toggleable__control sk-hidden--visually\" id=\"b3b842fc-58c3-4ec7-bde3-129c3c8615c6\" type=\"checkbox\" ><label for=\"b3b842fc-58c3-4ec7-bde3-129c3c8615c6\" class=\"sk-toggleable__label sk-toggleable__label-arrow\">passthrough</label><div class=\"sk-toggleable__content\"><pre>passthrough</pre></div></div></div></div></div></div></div></div><div class=\"sk-item sk-dashed-wrapped\"><div class=\"sk-label-container\"><div class=\"sk-label sk-toggleable\"><input class=\"sk-toggleable__control sk-hidden--visually\" id=\"22524c95-1ab5-445f-b7e5-f2d9d33b415b\" type=\"checkbox\" ><label for=\"22524c95-1ab5-445f-b7e5-f2d9d33b415b\" class=\"sk-toggleable__label sk-toggleable__label-arrow\">transformedtargetregressor: TransformedTargetRegressor</label><div class=\"sk-toggleable__content\"><pre>TransformedTargetRegressor(regressor=LassoCV(alphas=array([1.e-10, 1.e-09, 1.e-08, 1.e-07, 1.e-06, 1.e-05, 1.e-04, 1.e-03,\n",
       "       1.e-02, 1.e-01, 1.e+00, 1.e+01, 1.e+02, 1.e+03, 1.e+04, 1.e+05,\n",
       "       1.e+06, 1.e+07, 1.e+08, 1.e+09, 1.e+10]),\n",
       "                                             max_iter=100000))</pre></div></div></div><div class=\"sk-parallel\"><div class=\"sk-parallel-item\"><div class=\"sk-item\"><div class=\"sk-serial\"><div class=\"sk-item\"><div class=\"sk-estimator sk-toggleable\"><input class=\"sk-toggleable__control sk-hidden--visually\" id=\"04396b7c-432a-4edb-8d78-cd86bc701a15\" type=\"checkbox\" ><label for=\"04396b7c-432a-4edb-8d78-cd86bc701a15\" class=\"sk-toggleable__label sk-toggleable__label-arrow\">LassoCV</label><div class=\"sk-toggleable__content\"><pre>LassoCV(alphas=array([1.e-10, 1.e-09, 1.e-08, 1.e-07, 1.e-06, 1.e-05, 1.e-04, 1.e-03,\n",
       "       1.e-02, 1.e-01, 1.e+00, 1.e+01, 1.e+02, 1.e+03, 1.e+04, 1.e+05,\n",
       "       1.e+06, 1.e+07, 1.e+08, 1.e+09, 1.e+10]),\n",
       "        max_iter=100000)</pre></div></div></div></div></div></div></div></div></div></div></div></div>"
      ],
      "text/plain": [
       "Pipeline(steps=[('columntransformer',\n",
       "                 ColumnTransformer(remainder='passthrough',\n",
       "                                   transformers=[('onehotencoder',\n",
       "                                                  OneHotEncoder(drop='if_binary'),\n",
       "                                                  ['drive', 'type']),\n",
       "                                                 ('ordinalencoder-1',\n",
       "                                                  OrdinalEncoder(categories=[['clean',\n",
       "                                                                              'rebuilt',\n",
       "                                                                              'lien',\n",
       "                                                                              'parts '\n",
       "                                                                              'only',\n",
       "                                                                              'missing',\n",
       "                                                                              'salvage']]),\n",
       "                                                  ['title_status']),\n",
       "                                                 ('ordinalencoder-2',\n",
       "                                                  OrdinalEncoder(categories=[['new',\n",
       "                                                                              'like '\n",
       "                                                                              'new',\n",
       "                                                                              'excellent',\n",
       "                                                                              'good',\n",
       "                                                                              'fair',\n",
       "                                                                              'salvage']]),\n",
       "                                                  ['condition'])])),\n",
       "                ('transformedtargetregressor',\n",
       "                 TransformedTargetRegressor(regressor=LassoCV(alphas=array([1.e-10, 1.e-09, 1.e-08, 1.e-07, 1.e-06, 1.e-05, 1.e-04, 1.e-03,\n",
       "       1.e-02, 1.e-01, 1.e+00, 1.e+01, 1.e+02, 1.e+03, 1.e+04, 1.e+05,\n",
       "       1.e+06, 1.e+07, 1.e+08, 1.e+09, 1.e+10]),\n",
       "                                                              max_iter=100000)))])"
      ]
     },
     "execution_count": 91,
     "metadata": {},
     "output_type": "execute_result"
    }
   ],
   "source": [
    "from sklearn.linear_model import LassoCV\n",
    "\n",
    "model_lasso = make_pipeline(\n",
    "    transformer,\n",
    "    TransformedTargetRegressor(\n",
    "        regressor = LassoCV(alphas=alphas, max_iter=100_000)\n",
    "    )\n",
    ")\n",
    "model_lasso.fit(X_train, y_train)"
   ]
  },
  {
   "cell_type": "code",
   "execution_count": 92,
   "metadata": {
    "scrolled": true
   },
   "outputs": [
    {
     "data": {
      "text/plain": [
       "100000000.0"
      ]
     },
     "execution_count": 92,
     "metadata": {},
     "output_type": "execute_result"
    }
   ],
   "source": [
    "model_lasso[-1].regressor_.alpha_"
   ]
  },
  {
   "cell_type": "code",
   "execution_count": 93,
   "metadata": {},
   "outputs": [
    {
     "name": "stdout",
     "output_type": "stream",
     "text": [
      "MSE Train (Lasso CV): 128618568897458.52\n",
      "MSE Test (Lasso CV): 301883719817.73785\n"
     ]
    }
   ],
   "source": [
    "mse_train = mean_squared_error(y_train, model_lasso.predict(X_train))\n",
    "mse_test = mean_squared_error(y_test, model_lasso.predict(X_test))\n",
    "\n",
    "\n",
    "print(f'MSE Train (Lasso CV): {mse_train}')\n",
    "print(f'MSE Test (Lasso CV): {mse_test}')"
   ]
  },
  {
   "cell_type": "code",
   "execution_count": 94,
   "metadata": {
    "scrolled": true
   },
   "outputs": [
    {
     "data": {
      "image/png": "[encoded data removed]",
      "text/plain": [
       "<Figure size 900x700 with 1 Axes>"
      ]
     },
     "metadata": {},
     "output_type": "display_data"
    }
   ],
   "source": [
    "lasso_coefs = pd.DataFrame(\n",
    "    model_lasso[-1].regressor_.coef_,\n",
    "    columns=[\"Coefficients\"],\n",
    "    index=feature_names\n",
    ")\n",
    "\n",
    "lasso_coefs.plot.barh(figsize=(9, 7))\n",
    "plt.title(\"Lasso model\")\n",
    "plt.axvline(x=0, color=\".5\")\n",
    "plt.xlabel(\"Raw coefficient values\")\n",
    "plt.subplots_adjust(left=0.3)\n",
    "plt.show()"
   ]
  },
  {
   "cell_type": "code",
   "execution_count": 95,
   "metadata": {},
   "outputs": [
    {
     "data": {
      "image/png": "[encoded data removed]",
      "text/plain": [
       "<Figure size 900x700 with 1 Axes>"
      ]
     },
     "metadata": {},
     "output_type": "display_data"
    }
   ],
   "source": [
    "## Lets look at the coefficient std. dev\n",
    "X_train_preprocessed_lasso = pd.DataFrame(\n",
    "    model_lasso[:-1].transform(X_train), columns=feature_names\n",
    ")\n",
    "\n",
    "X_train_preprocessed_lasso.std(axis=0).plot.barh(figsize=(9, 7))\n",
    "plt.title(\"Feature ranges\")\n",
    "plt.xlabel(\"Std. dev. of feature values\")\n",
    "plt.subplots_adjust(left=0.3)\n",
    "plt.show()"
   ]
  },
  {
   "cell_type": "code",
   "execution_count": null,
   "metadata": {},
   "outputs": [],
   "source": [
    "### Lasso does not seem to be a good fit for us since the only feature it seems to prefer is odometer, \n",
    "### but the std. dev. for that is also too high. "
   ]
  },
  {
   "cell_type": "code",
   "execution_count": null,
   "metadata": {},
   "outputs": [],
   "source": []
  },
  {
   "cell_type": "code",
   "execution_count": 62,
   "metadata": {},
   "outputs": [],
   "source": [
    "import warnings\n",
    "import sklearn\n",
    "import pandas as pd"
   ]
  },
  {
   "cell_type": "code",
   "execution_count": 63,
   "metadata": {},
   "outputs": [],
   "source": [
    "### Function to extract column names since ORdinalEncoder does not provide the get_feature_names_out function\n",
    "### Source: https://johaupt.github.io/blog/columnTransformer_feature_names.html\n",
    "def get_feature_names(column_transformer):\n",
    "    \"\"\"Get feature names from all transformers.\n",
    "    Returns\n",
    "    -------\n",
    "    feature_names : list of strings\n",
    "        Names of the features produced by transform.\n",
    "    \"\"\"\n",
    "    # Remove the internal helper function\n",
    "    #check_is_fitted(column_transformer)\n",
    "    \n",
    "    # Turn loopkup into function for better handling with pipeline later\n",
    "    def get_names(trans):\n",
    "        # >> Original get_feature_names() method\n",
    "        if trans == 'drop' or (\n",
    "                hasattr(column, '__len__') and not len(column)):\n",
    "            return []\n",
    "        if trans == 'passthrough':\n",
    "            if hasattr(column_transformer, '_df_columns'):\n",
    "                if ((not isinstance(column, slice))\n",
    "                        and all(isinstance(col, str) for col in column)):\n",
    "                    return column\n",
    "                else:\n",
    "                    return column_transformer._df_columns[column]\n",
    "            else:\n",
    "                indices = np.arange(column_transformer._n_features)\n",
    "                return ['x%d' % i for i in indices[column]]\n",
    "        if not hasattr(trans, 'get_feature_names'):\n",
    "        # >>> Change: Return input column names if no method avaiable\n",
    "            # Turn error into a warning\n",
    "            warnings.warn(\"Transformer %s (type %s) does not \"\n",
    "                                 \"provide get_feature_names. \"\n",
    "                                 \"Will return input column names if available\"\n",
    "                                 % (str(name), type(trans).__name__))\n",
    "            # For transformers without a get_features_names method, use the input\n",
    "            # names to the column transformer\n",
    "            if column is None:\n",
    "                return []\n",
    "            else:\n",
    "                return [name + \"__\" + f for f in column]\n",
    "\n",
    "        return [name + \"__\" + f for f in trans.get_feature_names()]\n",
    "    \n",
    "    ### Start of processing\n",
    "    feature_names = []\n",
    "    \n",
    "    # Allow transformers to be pipelines. Pipeline steps are named differently, so preprocessing is needed\n",
    "    if type(column_transformer) == sklearn.pipeline.Pipeline:\n",
    "        l_transformers = [(name, trans, None, None) for step, name, trans in column_transformer._iter()]\n",
    "    else:\n",
    "        # For column transformers, follow the original method\n",
    "        l_transformers = list(column_transformer._iter(fitted=True))\n",
    "    \n",
    "    \n",
    "    for name, trans, column, _ in l_transformers: \n",
    "        if type(trans) == sklearn.pipeline.Pipeline:\n",
    "            # Recursive call on pipeline\n",
    "            _names = get_feature_names(trans)\n",
    "            # if pipeline has no transformer that returns names\n",
    "            if len(_names)==0:\n",
    "                _names = [name + \"__\" + f for f in column]\n",
    "            feature_names.extend(_names)\n",
    "        else:\n",
    "            feature_names.extend(get_names(trans))\n",
    "    \n",
    "    return feature_names"
   ]
  },
  {
   "cell_type": "markdown",
   "metadata": {},
   "source": [
    "### Evaluation\n",
    "\n",
    "With some modeling accomplished, we aim to reflect on what we identify as a high quality model and what we are able to learn from this.  We should review our business objective and explore how well we can provide meaningful insight on drivers of used car prices.  Your goal now is to distill your findings and determine whether the earlier phases need revisitation and adjustment or if you have information of value to bring back to your client."
   ]
  },
  {
   "cell_type": "code",
   "execution_count": null,
   "metadata": {},
   "outputs": [],
   "source": []
  },
  {
   "cell_type": "code",
   "execution_count": null,
   "metadata": {},
   "outputs": [],
   "source": []
  },
  {
   "cell_type": "code",
   "execution_count": null,
   "metadata": {},
   "outputs": [],
   "source": []
  },
  {
   "cell_type": "code",
   "execution_count": null,
   "metadata": {},
   "outputs": [],
   "source": []
  },
  {
   "cell_type": "code",
   "execution_count": null,
   "metadata": {},
   "outputs": [],
   "source": []
  },
  {
   "cell_type": "code",
   "execution_count": null,
   "metadata": {},
   "outputs": [],
   "source": []
  },
  {
   "cell_type": "markdown",
   "metadata": {},
   "source": [
    "### Deployment\n",
    "\n",
    "Now that we've settled on our models and findings, it is time to deliver the information to the client.  You should organize your work as a basic report that details your primary findings.  Keep in mind that your audience is a group of used car dealers interested in fine tuning their inventory."
   ]
  },
  {
   "cell_type": "code",
   "execution_count": null,
   "metadata": {},
   "outputs": [],
   "source": []
  },
  {
   "cell_type": "code",
   "execution_count": null,
   "metadata": {},
   "outputs": [],
   "source": []
  },
  {
   "cell_type": "code",
   "execution_count": null,
   "metadata": {},
   "outputs": [],
   "source": []
  },
  {
   "cell_type": "code",
   "execution_count": null,
   "metadata": {},
   "outputs": [],
   "source": []
  },
  {
   "cell_type": "code",
   "execution_count": null,
   "metadata": {},
   "outputs": [],
   "source": []
  },
  {
   "cell_type": "code",
   "execution_count": null,
   "metadata": {},
   "outputs": [],
   "source": []
  },
  {
   "cell_type": "code",
   "execution_count": null,
   "metadata": {},
   "outputs": [],
   "source": []
  }
 ],
 "metadata": {
  "kernelspec": {
   "display_name": "Python 3 (ipykernel)",
   "language": "python",
   "name": "python3"
  },
  "language_info": {
   "codemirror_mode": {
    "name": "ipython",
    "version": 3
   },
   "file_extension": ".py",
   "mimetype": "text/x-python",
   "name": "python",
   "nbconvert_exporter": "python",
   "pygments_lexer": "ipython3",
   "version": "3.9.13"
  },
  "widgets": {
   "application/vnd.jupyter.widget-state+json": {
    "state": {},
    "version_major": 2,
    "version_minor": 0
   }
  }
 },
 "nbformat": 4,
 "nbformat_minor": 4
}
